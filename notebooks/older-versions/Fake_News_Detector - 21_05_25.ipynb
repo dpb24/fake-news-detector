{
 "cells": [
  {
   "cell_type": "markdown",
   "id": "40cb1ad3",
   "metadata": {},
   "source": [
    "# Fake News Detection: Binary Classification Model\n",
    "\n",
    "In this project, we analyse the [ISOT Fake News Detection dataset](https://www.kaggle.com/datasets/clmentbisaillon/fake-and-real-news-dataset/) and develop machine learning models to classify news articles as fake or real. We draw inspiration from the [2024 paper](https://arxiv.org/html/2411.12703v1) by Karim et al."
   ]
  },
  {
   "cell_type": "markdown",
   "id": "fa4866b9",
   "metadata": {},
   "source": [
    "## 1 Imports\n",
    "We import relevant Python packages for data manipulation, visualisation, preprocessing and modeling."
   ]
  },
  {
   "cell_type": "code",
   "execution_count": 1,
   "id": "759be67a",
   "metadata": {},
   "outputs": [],
   "source": [
    "# Operational packages\n",
    "import pandas as pd\n",
    "import numpy as np\n",
    "import warnings\n",
    "from datetime import datetime\n",
    "\n",
    "# Visualisation packages\n",
    "import matplotlib.pyplot as plt\n",
    "import seaborn as sns\n",
    "\n",
    "# Text vectorization\n",
    "from sklearn.feature_extraction.text import CountVectorizer\n",
    "\n",
    "# Machine Learning baseline models\n",
    "from sklearn.tree import DecisionTreeClassifier\n",
    "from xgboost import XGBClassifier\n",
    "\n",
    "# Model evaluation\n",
    "from sklearn.metrics import mean_absolute_error, mean_squared_error, r2_score\n",
    "\n",
    "# Data preprocessing\n",
    "from sklearn.model_selection import train_test_split\n",
    "from sklearn.preprocessing import StandardScaler, OneHotEncoder\n",
    "from sklearn.compose import ColumnTransformer\n",
    "from sklearn.pipeline import Pipeline\n",
    "\n",
    "# Hyperparameter tuning\n",
    "from sklearn.model_selection import GridSearchCV\n",
    "\n",
    "warnings.filterwarnings(\"ignore\", category=FutureWarning)"
   ]
  },
  {
   "cell_type": "markdown",
   "id": "420e0850",
   "metadata": {},
   "source": [
    "We load the fake and real news articles into pandas DataFrames and assign them to the variables **fake_news** and **real_news**, respectively."
   ]
  },
  {
   "cell_type": "code",
   "execution_count": 2,
   "id": "5310bca5",
   "metadata": {},
   "outputs": [],
   "source": [
    "# import data\n",
    "fake_news = pd.read_csv('Fake.csv')\n",
    "real_news = pd.read_csv('True.csv')"
   ]
  },
  {
   "cell_type": "markdown",
   "id": "0b7725f6",
   "metadata": {},
   "source": [
    "## 2 Data Exploration\n",
    "### 2.1 Initial Exploratory Data Analysis\n",
    "We begin by conducting an initial exploration of the dataset."
   ]
  },
  {
   "cell_type": "code",
   "execution_count": 3,
   "id": "ecc884a6",
   "metadata": {},
   "outputs": [
    {
     "data": {
      "text/html": [
       "<div>\n",
       "<style scoped>\n",
       "    .dataframe tbody tr th:only-of-type {\n",
       "        vertical-align: middle;\n",
       "    }\n",
       "\n",
       "    .dataframe tbody tr th {\n",
       "        vertical-align: top;\n",
       "    }\n",
       "\n",
       "    .dataframe thead th {\n",
       "        text-align: right;\n",
       "    }\n",
       "</style>\n",
       "<table border=\"1\" class=\"dataframe\">\n",
       "  <thead>\n",
       "    <tr style=\"text-align: right;\">\n",
       "      <th></th>\n",
       "      <th>title</th>\n",
       "      <th>text</th>\n",
       "      <th>subject</th>\n",
       "      <th>date</th>\n",
       "    </tr>\n",
       "  </thead>\n",
       "  <tbody>\n",
       "    <tr>\n",
       "      <th>0</th>\n",
       "      <td>Donald Trump Sends Out Embarrassing New Year’...</td>\n",
       "      <td>Donald Trump just couldn t wish all Americans ...</td>\n",
       "      <td>News</td>\n",
       "      <td>December 31, 2017</td>\n",
       "    </tr>\n",
       "    <tr>\n",
       "      <th>1</th>\n",
       "      <td>Drunk Bragging Trump Staffer Started Russian ...</td>\n",
       "      <td>House Intelligence Committee Chairman Devin Nu...</td>\n",
       "      <td>News</td>\n",
       "      <td>December 31, 2017</td>\n",
       "    </tr>\n",
       "    <tr>\n",
       "      <th>2</th>\n",
       "      <td>Sheriff David Clarke Becomes An Internet Joke...</td>\n",
       "      <td>On Friday, it was revealed that former Milwauk...</td>\n",
       "      <td>News</td>\n",
       "      <td>December 30, 2017</td>\n",
       "    </tr>\n",
       "    <tr>\n",
       "      <th>3</th>\n",
       "      <td>Trump Is So Obsessed He Even Has Obama’s Name...</td>\n",
       "      <td>On Christmas day, Donald Trump announced that ...</td>\n",
       "      <td>News</td>\n",
       "      <td>December 29, 2017</td>\n",
       "    </tr>\n",
       "    <tr>\n",
       "      <th>4</th>\n",
       "      <td>Pope Francis Just Called Out Donald Trump Dur...</td>\n",
       "      <td>Pope Francis used his annual Christmas Day mes...</td>\n",
       "      <td>News</td>\n",
       "      <td>December 25, 2017</td>\n",
       "    </tr>\n",
       "  </tbody>\n",
       "</table>\n",
       "</div>"
      ],
      "text/plain": [
       "                                               title  \\\n",
       "0   Donald Trump Sends Out Embarrassing New Year’...   \n",
       "1   Drunk Bragging Trump Staffer Started Russian ...   \n",
       "2   Sheriff David Clarke Becomes An Internet Joke...   \n",
       "3   Trump Is So Obsessed He Even Has Obama’s Name...   \n",
       "4   Pope Francis Just Called Out Donald Trump Dur...   \n",
       "\n",
       "                                                text subject  \\\n",
       "0  Donald Trump just couldn t wish all Americans ...    News   \n",
       "1  House Intelligence Committee Chairman Devin Nu...    News   \n",
       "2  On Friday, it was revealed that former Milwauk...    News   \n",
       "3  On Christmas day, Donald Trump announced that ...    News   \n",
       "4  Pope Francis used his annual Christmas Day mes...    News   \n",
       "\n",
       "                date  \n",
       "0  December 31, 2017  \n",
       "1  December 31, 2017  \n",
       "2  December 30, 2017  \n",
       "3  December 29, 2017  \n",
       "4  December 25, 2017  "
      ]
     },
     "execution_count": 3,
     "metadata": {},
     "output_type": "execute_result"
    }
   ],
   "source": [
    "# check first 5 rows of fake news dataset\n",
    "fake_news.head()"
   ]
  },
  {
   "cell_type": "code",
   "execution_count": 4,
   "id": "1b63f731",
   "metadata": {},
   "outputs": [
    {
     "data": {
      "text/html": [
       "<div>\n",
       "<style scoped>\n",
       "    .dataframe tbody tr th:only-of-type {\n",
       "        vertical-align: middle;\n",
       "    }\n",
       "\n",
       "    .dataframe tbody tr th {\n",
       "        vertical-align: top;\n",
       "    }\n",
       "\n",
       "    .dataframe thead th {\n",
       "        text-align: right;\n",
       "    }\n",
       "</style>\n",
       "<table border=\"1\" class=\"dataframe\">\n",
       "  <thead>\n",
       "    <tr style=\"text-align: right;\">\n",
       "      <th></th>\n",
       "      <th>title</th>\n",
       "      <th>text</th>\n",
       "      <th>subject</th>\n",
       "      <th>date</th>\n",
       "    </tr>\n",
       "  </thead>\n",
       "  <tbody>\n",
       "    <tr>\n",
       "      <th>0</th>\n",
       "      <td>As U.S. budget fight looms, Republicans flip t...</td>\n",
       "      <td>WASHINGTON (Reuters) - The head of a conservat...</td>\n",
       "      <td>politicsNews</td>\n",
       "      <td>December 31, 2017</td>\n",
       "    </tr>\n",
       "    <tr>\n",
       "      <th>1</th>\n",
       "      <td>U.S. military to accept transgender recruits o...</td>\n",
       "      <td>WASHINGTON (Reuters) - Transgender people will...</td>\n",
       "      <td>politicsNews</td>\n",
       "      <td>December 29, 2017</td>\n",
       "    </tr>\n",
       "    <tr>\n",
       "      <th>2</th>\n",
       "      <td>Senior U.S. Republican senator: 'Let Mr. Muell...</td>\n",
       "      <td>WASHINGTON (Reuters) - The special counsel inv...</td>\n",
       "      <td>politicsNews</td>\n",
       "      <td>December 31, 2017</td>\n",
       "    </tr>\n",
       "    <tr>\n",
       "      <th>3</th>\n",
       "      <td>FBI Russia probe helped by Australian diplomat...</td>\n",
       "      <td>WASHINGTON (Reuters) - Trump campaign adviser ...</td>\n",
       "      <td>politicsNews</td>\n",
       "      <td>December 30, 2017</td>\n",
       "    </tr>\n",
       "    <tr>\n",
       "      <th>4</th>\n",
       "      <td>Trump wants Postal Service to charge 'much mor...</td>\n",
       "      <td>SEATTLE/WASHINGTON (Reuters) - President Donal...</td>\n",
       "      <td>politicsNews</td>\n",
       "      <td>December 29, 2017</td>\n",
       "    </tr>\n",
       "  </tbody>\n",
       "</table>\n",
       "</div>"
      ],
      "text/plain": [
       "                                               title  \\\n",
       "0  As U.S. budget fight looms, Republicans flip t...   \n",
       "1  U.S. military to accept transgender recruits o...   \n",
       "2  Senior U.S. Republican senator: 'Let Mr. Muell...   \n",
       "3  FBI Russia probe helped by Australian diplomat...   \n",
       "4  Trump wants Postal Service to charge 'much mor...   \n",
       "\n",
       "                                                text       subject  \\\n",
       "0  WASHINGTON (Reuters) - The head of a conservat...  politicsNews   \n",
       "1  WASHINGTON (Reuters) - Transgender people will...  politicsNews   \n",
       "2  WASHINGTON (Reuters) - The special counsel inv...  politicsNews   \n",
       "3  WASHINGTON (Reuters) - Trump campaign adviser ...  politicsNews   \n",
       "4  SEATTLE/WASHINGTON (Reuters) - President Donal...  politicsNews   \n",
       "\n",
       "                 date  \n",
       "0  December 31, 2017   \n",
       "1  December 29, 2017   \n",
       "2  December 31, 2017   \n",
       "3  December 30, 2017   \n",
       "4  December 29, 2017   "
      ]
     },
     "execution_count": 4,
     "metadata": {},
     "output_type": "execute_result"
    }
   ],
   "source": [
    "# check first 5 rows of real news dataset\n",
    "real_news.head()"
   ]
  },
  {
   "cell_type": "code",
   "execution_count": 5,
   "id": "e827b7aa",
   "metadata": {},
   "outputs": [
    {
     "data": {
      "text/plain": [
       "(23481, 4)"
      ]
     },
     "execution_count": 5,
     "metadata": {},
     "output_type": "execute_result"
    }
   ],
   "source": [
    "# check size of fake news dataset\n",
    "fake_news.shape"
   ]
  },
  {
   "cell_type": "code",
   "execution_count": 6,
   "id": "b9758aed",
   "metadata": {},
   "outputs": [
    {
     "data": {
      "text/plain": [
       "(21417, 4)"
      ]
     },
     "execution_count": 6,
     "metadata": {},
     "output_type": "execute_result"
    }
   ],
   "source": [
    "# check size of real news dataset\n",
    "real_news.shape"
   ]
  },
  {
   "cell_type": "markdown",
   "id": "bf28153f",
   "metadata": {},
   "source": [
    "The fake news dataset contains 23,481 entries, each representing a fake news article. The real news dataset contains 21,417 entries, with each corresponding to a real news article. Both datasets share the same column structure."
   ]
  },
  {
   "cell_type": "markdown",
   "id": "6f940f08",
   "metadata": {},
   "source": [
    "### 2.2 Data Cleaning\n",
    "\n",
    "We combine the real and fake news datasets into a single DataFrame and introduce a new column, **label**, to indicate the class of each article (0 for real news, 1 for fake news)."
   ]
  },
  {
   "cell_type": "code",
   "execution_count": 7,
   "id": "4d87e1e8",
   "metadata": {},
   "outputs": [],
   "source": [
    "# combine datasets\n",
    "fake_news['label'] = 1\n",
    "real_news['label'] = 0\n",
    "news_df = pd.concat([fake_news, real_news], ignore_index=True)"
   ]
  },
  {
   "cell_type": "code",
   "execution_count": 8,
   "id": "bfd533f8",
   "metadata": {},
   "outputs": [
    {
     "data": {
      "text/html": [
       "<div>\n",
       "<style scoped>\n",
       "    .dataframe tbody tr th:only-of-type {\n",
       "        vertical-align: middle;\n",
       "    }\n",
       "\n",
       "    .dataframe tbody tr th {\n",
       "        vertical-align: top;\n",
       "    }\n",
       "\n",
       "    .dataframe thead th {\n",
       "        text-align: right;\n",
       "    }\n",
       "</style>\n",
       "<table border=\"1\" class=\"dataframe\">\n",
       "  <thead>\n",
       "    <tr style=\"text-align: right;\">\n",
       "      <th></th>\n",
       "      <th>title</th>\n",
       "      <th>text</th>\n",
       "      <th>subject</th>\n",
       "      <th>date</th>\n",
       "      <th>label</th>\n",
       "    </tr>\n",
       "  </thead>\n",
       "  <tbody>\n",
       "    <tr>\n",
       "      <th>0</th>\n",
       "      <td>Donald Trump Sends Out Embarrassing New Year’...</td>\n",
       "      <td>Donald Trump just couldn t wish all Americans ...</td>\n",
       "      <td>News</td>\n",
       "      <td>December 31, 2017</td>\n",
       "      <td>1</td>\n",
       "    </tr>\n",
       "    <tr>\n",
       "      <th>1</th>\n",
       "      <td>Drunk Bragging Trump Staffer Started Russian ...</td>\n",
       "      <td>House Intelligence Committee Chairman Devin Nu...</td>\n",
       "      <td>News</td>\n",
       "      <td>December 31, 2017</td>\n",
       "      <td>1</td>\n",
       "    </tr>\n",
       "    <tr>\n",
       "      <th>2</th>\n",
       "      <td>Sheriff David Clarke Becomes An Internet Joke...</td>\n",
       "      <td>On Friday, it was revealed that former Milwauk...</td>\n",
       "      <td>News</td>\n",
       "      <td>December 30, 2017</td>\n",
       "      <td>1</td>\n",
       "    </tr>\n",
       "    <tr>\n",
       "      <th>3</th>\n",
       "      <td>Trump Is So Obsessed He Even Has Obama’s Name...</td>\n",
       "      <td>On Christmas day, Donald Trump announced that ...</td>\n",
       "      <td>News</td>\n",
       "      <td>December 29, 2017</td>\n",
       "      <td>1</td>\n",
       "    </tr>\n",
       "    <tr>\n",
       "      <th>4</th>\n",
       "      <td>Pope Francis Just Called Out Donald Trump Dur...</td>\n",
       "      <td>Pope Francis used his annual Christmas Day mes...</td>\n",
       "      <td>News</td>\n",
       "      <td>December 25, 2017</td>\n",
       "      <td>1</td>\n",
       "    </tr>\n",
       "  </tbody>\n",
       "</table>\n",
       "</div>"
      ],
      "text/plain": [
       "                                               title  \\\n",
       "0   Donald Trump Sends Out Embarrassing New Year’...   \n",
       "1   Drunk Bragging Trump Staffer Started Russian ...   \n",
       "2   Sheriff David Clarke Becomes An Internet Joke...   \n",
       "3   Trump Is So Obsessed He Even Has Obama’s Name...   \n",
       "4   Pope Francis Just Called Out Donald Trump Dur...   \n",
       "\n",
       "                                                text subject  \\\n",
       "0  Donald Trump just couldn t wish all Americans ...    News   \n",
       "1  House Intelligence Committee Chairman Devin Nu...    News   \n",
       "2  On Friday, it was revealed that former Milwauk...    News   \n",
       "3  On Christmas day, Donald Trump announced that ...    News   \n",
       "4  Pope Francis used his annual Christmas Day mes...    News   \n",
       "\n",
       "                date  label  \n",
       "0  December 31, 2017      1  \n",
       "1  December 31, 2017      1  \n",
       "2  December 30, 2017      1  \n",
       "3  December 29, 2017      1  \n",
       "4  December 25, 2017      1  "
      ]
     },
     "execution_count": 8,
     "metadata": {},
     "output_type": "execute_result"
    }
   ],
   "source": [
    "# check first 5 rows of news dataset\n",
    "news_df.head()"
   ]
  },
  {
   "cell_type": "code",
   "execution_count": 9,
   "id": "b155e53d",
   "metadata": {},
   "outputs": [
    {
     "data": {
      "text/html": [
       "<div>\n",
       "<style scoped>\n",
       "    .dataframe tbody tr th:only-of-type {\n",
       "        vertical-align: middle;\n",
       "    }\n",
       "\n",
       "    .dataframe tbody tr th {\n",
       "        vertical-align: top;\n",
       "    }\n",
       "\n",
       "    .dataframe thead th {\n",
       "        text-align: right;\n",
       "    }\n",
       "</style>\n",
       "<table border=\"1\" class=\"dataframe\">\n",
       "  <thead>\n",
       "    <tr style=\"text-align: right;\">\n",
       "      <th></th>\n",
       "      <th>title</th>\n",
       "      <th>text</th>\n",
       "      <th>subject</th>\n",
       "      <th>date</th>\n",
       "      <th>label</th>\n",
       "    </tr>\n",
       "  </thead>\n",
       "  <tbody>\n",
       "    <tr>\n",
       "      <th>44893</th>\n",
       "      <td>'Fully committed' NATO backs new U.S. approach...</td>\n",
       "      <td>BRUSSELS (Reuters) - NATO allies on Tuesday we...</td>\n",
       "      <td>worldnews</td>\n",
       "      <td>August 22, 2017</td>\n",
       "      <td>0</td>\n",
       "    </tr>\n",
       "    <tr>\n",
       "      <th>44894</th>\n",
       "      <td>LexisNexis withdrew two products from Chinese ...</td>\n",
       "      <td>LONDON (Reuters) - LexisNexis, a provider of l...</td>\n",
       "      <td>worldnews</td>\n",
       "      <td>August 22, 2017</td>\n",
       "      <td>0</td>\n",
       "    </tr>\n",
       "    <tr>\n",
       "      <th>44895</th>\n",
       "      <td>Minsk cultural hub becomes haven from authorities</td>\n",
       "      <td>MINSK (Reuters) - In the shadow of disused Sov...</td>\n",
       "      <td>worldnews</td>\n",
       "      <td>August 22, 2017</td>\n",
       "      <td>0</td>\n",
       "    </tr>\n",
       "    <tr>\n",
       "      <th>44896</th>\n",
       "      <td>Vatican upbeat on possibility of Pope Francis ...</td>\n",
       "      <td>MOSCOW (Reuters) - Vatican Secretary of State ...</td>\n",
       "      <td>worldnews</td>\n",
       "      <td>August 22, 2017</td>\n",
       "      <td>0</td>\n",
       "    </tr>\n",
       "    <tr>\n",
       "      <th>44897</th>\n",
       "      <td>Indonesia to buy $1.14 billion worth of Russia...</td>\n",
       "      <td>JAKARTA (Reuters) - Indonesia will buy 11 Sukh...</td>\n",
       "      <td>worldnews</td>\n",
       "      <td>August 22, 2017</td>\n",
       "      <td>0</td>\n",
       "    </tr>\n",
       "  </tbody>\n",
       "</table>\n",
       "</div>"
      ],
      "text/plain": [
       "                                                   title  \\\n",
       "44893  'Fully committed' NATO backs new U.S. approach...   \n",
       "44894  LexisNexis withdrew two products from Chinese ...   \n",
       "44895  Minsk cultural hub becomes haven from authorities   \n",
       "44896  Vatican upbeat on possibility of Pope Francis ...   \n",
       "44897  Indonesia to buy $1.14 billion worth of Russia...   \n",
       "\n",
       "                                                    text    subject  \\\n",
       "44893  BRUSSELS (Reuters) - NATO allies on Tuesday we...  worldnews   \n",
       "44894  LONDON (Reuters) - LexisNexis, a provider of l...  worldnews   \n",
       "44895  MINSK (Reuters) - In the shadow of disused Sov...  worldnews   \n",
       "44896  MOSCOW (Reuters) - Vatican Secretary of State ...  worldnews   \n",
       "44897  JAKARTA (Reuters) - Indonesia will buy 11 Sukh...  worldnews   \n",
       "\n",
       "                   date  label  \n",
       "44893  August 22, 2017       0  \n",
       "44894  August 22, 2017       0  \n",
       "44895  August 22, 2017       0  \n",
       "44896  August 22, 2017       0  \n",
       "44897  August 22, 2017       0  "
      ]
     },
     "execution_count": 9,
     "metadata": {},
     "output_type": "execute_result"
    }
   ],
   "source": [
    "# check last 5 rows of news dataset\n",
    "news_df.tail()"
   ]
  },
  {
   "cell_type": "code",
   "execution_count": 10,
   "id": "7e4d0187",
   "metadata": {},
   "outputs": [
    {
     "data": {
      "text/plain": [
       "(44898, 5)"
      ]
     },
     "execution_count": 10,
     "metadata": {},
     "output_type": "execute_result"
    }
   ],
   "source": [
    "# Check size of the new DataFrame\n",
    "news_df.shape"
   ]
  },
  {
   "cell_type": "markdown",
   "id": "b8d48aae",
   "metadata": {},
   "source": [
    "We check the data types of the columns."
   ]
  },
  {
   "cell_type": "code",
   "execution_count": 11,
   "id": "9fdf2df0",
   "metadata": {},
   "outputs": [
    {
     "data": {
      "text/plain": [
       "title      object\n",
       "text       object\n",
       "subject    object\n",
       "date       object\n",
       "label       int64\n",
       "dtype: object"
      ]
     },
     "execution_count": 11,
     "metadata": {},
     "output_type": "execute_result"
    }
   ],
   "source": [
    "# Check data types of columns\n",
    "news_df.dtypes"
   ]
  },
  {
   "cell_type": "markdown",
   "id": "48f22979",
   "metadata": {},
   "source": [
    "We convert the **date** column to a pandas *datetime64* type to enable easier time-based filtering and feature extraction."
   ]
  },
  {
   "cell_type": "code",
   "execution_count": 12,
   "id": "235026d8",
   "metadata": {},
   "outputs": [
    {
     "data": {
      "text/plain": [
       "title               object\n",
       "text                object\n",
       "subject             object\n",
       "date                object\n",
       "label                int64\n",
       "date_new    datetime64[ns]\n",
       "dtype: object"
      ]
     },
     "execution_count": 12,
     "metadata": {},
     "output_type": "execute_result"
    }
   ],
   "source": [
    "# Strip leading/trailing whitespace from all entries in the date column\n",
    "news_df['date'] = news_df['date'].astype(str).str.strip()\n",
    "\n",
    "# Convert 'date' column to datetime\n",
    "def parse_date(text):\n",
    "    for fmt in (\"%d-%b-%y\", \"%b %d, %Y\", \"%Y-%m-%d\", \"%d-%m-%Y\", \"%d %b %Y\", \"%B %d, %Y\"):\n",
    "        try:\n",
    "            return datetime.strptime(text.strip(), fmt)\n",
    "        except Exception:\n",
    "            continue\n",
    "    return pd.NaT\n",
    "\n",
    "news_df['date_new'] = news_df['date'].apply(parse_date)\n",
    "\n",
    "# Check data types of columns\n",
    "news_df.dtypes"
   ]
  },
  {
   "cell_type": "markdown",
   "id": "db8d7967",
   "metadata": {},
   "source": [
    "We check for missing values."
   ]
  },
  {
   "cell_type": "code",
   "execution_count": 13,
   "id": "0f57a090",
   "metadata": {},
   "outputs": [
    {
     "data": {
      "text/plain": [
       "title        0\n",
       "text         0\n",
       "subject      0\n",
       "date         0\n",
       "label        0\n",
       "date_new    10\n",
       "dtype: int64"
      ]
     },
     "execution_count": 13,
     "metadata": {},
     "output_type": "execute_result"
    }
   ],
   "source": [
    "# Check for missing values\n",
    "news_df.isna().sum()"
   ]
  },
  {
   "cell_type": "code",
   "execution_count": 14,
   "id": "244a1cc0",
   "metadata": {},
   "outputs": [
    {
     "data": {
      "text/html": [
       "<div>\n",
       "<style scoped>\n",
       "    .dataframe tbody tr th:only-of-type {\n",
       "        vertical-align: middle;\n",
       "    }\n",
       "\n",
       "    .dataframe tbody tr th {\n",
       "        vertical-align: top;\n",
       "    }\n",
       "\n",
       "    .dataframe thead th {\n",
       "        text-align: right;\n",
       "    }\n",
       "</style>\n",
       "<table border=\"1\" class=\"dataframe\">\n",
       "  <thead>\n",
       "    <tr style=\"text-align: right;\">\n",
       "      <th></th>\n",
       "      <th>date</th>\n",
       "      <th>date_new</th>\n",
       "    </tr>\n",
       "  </thead>\n",
       "  <tbody>\n",
       "    <tr>\n",
       "      <th>9358</th>\n",
       "      <td>https://100percentfedup.com/served-roy-moore-v...</td>\n",
       "      <td>NaT</td>\n",
       "    </tr>\n",
       "    <tr>\n",
       "      <th>15507</th>\n",
       "      <td>https://100percentfedup.com/video-hillary-aske...</td>\n",
       "      <td>NaT</td>\n",
       "    </tr>\n",
       "    <tr>\n",
       "      <th>15508</th>\n",
       "      <td>https://100percentfedup.com/12-yr-old-black-co...</td>\n",
       "      <td>NaT</td>\n",
       "    </tr>\n",
       "    <tr>\n",
       "      <th>15839</th>\n",
       "      <td>https://fedup.wpengine.com/wp-content/uploads/...</td>\n",
       "      <td>NaT</td>\n",
       "    </tr>\n",
       "    <tr>\n",
       "      <th>15840</th>\n",
       "      <td>https://fedup.wpengine.com/wp-content/uploads/...</td>\n",
       "      <td>NaT</td>\n",
       "    </tr>\n",
       "    <tr>\n",
       "      <th>17432</th>\n",
       "      <td>https://fedup.wpengine.com/wp-content/uploads/...</td>\n",
       "      <td>NaT</td>\n",
       "    </tr>\n",
       "    <tr>\n",
       "      <th>17433</th>\n",
       "      <td>https://fedup.wpengine.com/wp-content/uploads/...</td>\n",
       "      <td>NaT</td>\n",
       "    </tr>\n",
       "    <tr>\n",
       "      <th>18933</th>\n",
       "      <td>MSNBC HOST Rudely Assumes Steel Worker Would N...</td>\n",
       "      <td>NaT</td>\n",
       "    </tr>\n",
       "    <tr>\n",
       "      <th>21869</th>\n",
       "      <td>https://fedup.wpengine.com/wp-content/uploads/...</td>\n",
       "      <td>NaT</td>\n",
       "    </tr>\n",
       "    <tr>\n",
       "      <th>21870</th>\n",
       "      <td>https://fedup.wpengine.com/wp-content/uploads/...</td>\n",
       "      <td>NaT</td>\n",
       "    </tr>\n",
       "  </tbody>\n",
       "</table>\n",
       "</div>"
      ],
      "text/plain": [
       "                                                    date date_new\n",
       "9358   https://100percentfedup.com/served-roy-moore-v...      NaT\n",
       "15507  https://100percentfedup.com/video-hillary-aske...      NaT\n",
       "15508  https://100percentfedup.com/12-yr-old-black-co...      NaT\n",
       "15839  https://fedup.wpengine.com/wp-content/uploads/...      NaT\n",
       "15840  https://fedup.wpengine.com/wp-content/uploads/...      NaT\n",
       "17432  https://fedup.wpengine.com/wp-content/uploads/...      NaT\n",
       "17433  https://fedup.wpengine.com/wp-content/uploads/...      NaT\n",
       "18933  MSNBC HOST Rudely Assumes Steel Worker Would N...      NaT\n",
       "21869  https://fedup.wpengine.com/wp-content/uploads/...      NaT\n",
       "21870  https://fedup.wpengine.com/wp-content/uploads/...      NaT"
      ]
     },
     "execution_count": 14,
     "metadata": {},
     "output_type": "execute_result"
    }
   ],
   "source": [
    "# Inspect entries with missing values\n",
    "news_df[news_df['date_new'].isna()][['date', 'date_new']]"
   ]
  },
  {
   "cell_type": "code",
   "execution_count": 15,
   "id": "f0bc9109",
   "metadata": {},
   "outputs": [],
   "source": [
    "# Drop rows with missing 'date_new'\n",
    "news_df_subset = news_df.dropna(subset=['date_new'])\n",
    "\n",
    "# Drop the original 'date' column\n",
    "news_df_subset2 = news_df_subset.drop(columns='date')\n",
    "\n",
    "# Rename columns\n",
    "news_df_subset3 = news_df_subset2.rename(columns={\n",
    "    'title': 'headline',\n",
    "    'text': 'article_text',\n",
    "    'subject': 'category',\n",
    "    'date_new': 'publication_date'})\n"
   ]
  },
  {
   "cell_type": "markdown",
   "id": "f028160d",
   "metadata": {},
   "source": [
    "We check for duplicate entries and remove them if necessary."
   ]
  },
  {
   "cell_type": "code",
   "execution_count": 16,
   "id": "73c8cc07",
   "metadata": {},
   "outputs": [
    {
     "data": {
      "text/plain": [
       "np.int64(209)"
      ]
     },
     "execution_count": 16,
     "metadata": {},
     "output_type": "execute_result"
    }
   ],
   "source": [
    "# Check for duplicates\n",
    "news_df_subset3.duplicated().sum()"
   ]
  },
  {
   "cell_type": "code",
   "execution_count": 17,
   "id": "1609ff5b",
   "metadata": {},
   "outputs": [],
   "source": [
    "# Drop duplicates\n",
    "news_df_subset4 = news_df_subset3.drop_duplicates().reset_index(drop=True)"
   ]
  },
  {
   "cell_type": "markdown",
   "id": "f03e4b51",
   "metadata": {},
   "source": [
    "### 2.3 Feature Inspection and Dataset Integrity\n",
    "\n",
    "We explore the unique values in the **category** column."
   ]
  },
  {
   "cell_type": "code",
   "execution_count": 18,
   "id": "51823e8f",
   "metadata": {},
   "outputs": [
    {
     "data": {
      "text/plain": [
       "category\n",
       "politicsNews       11220\n",
       "worldnews           9991\n",
       "News                9050\n",
       "politics            6833\n",
       "left-news           4456\n",
       "Government News     1568\n",
       "US_News              783\n",
       "Middle-east          778\n",
       "Name: count, dtype: int64"
      ]
     },
     "execution_count": 18,
     "metadata": {},
     "output_type": "execute_result"
    }
   ],
   "source": [
    "# Count categories by value\n",
    "news_df_subset4['category'].value_counts()"
   ]
  },
  {
   "cell_type": "markdown",
   "id": "6322a29b",
   "metadata": {},
   "source": [
    "We visualise the distribution of article categories by class (real or fake)."
   ]
  },
  {
   "cell_type": "code",
   "execution_count": 19,
   "id": "fad3cfb0",
   "metadata": {},
   "outputs": [
    {
     "data": {
      "image/png": "[encoded data removed]",
      "text/plain": [
       "<Figure size 800x600 with 1 Axes>"
      ]
     },
     "metadata": {},
     "output_type": "display_data"
    }
   ],
   "source": [
    "# Calculate percentage of label=1 for each category\n",
    "category_percent_fake = news_df_subset4.groupby('category')['label'].mean()*100\n",
    "\n",
    "# Plot horizontal bar chart\n",
    "plt.figure(figsize=(8, 6))\n",
    "sns.barplot(x=category_percent_fake.values, y=category_percent_fake.index, palette='Greys')\n",
    "plt.xlabel('Percentage of Fake News (%)')\n",
    "plt.ylabel('Category')\n",
    "plt.title('Percentage of Fake News Articles by Category')\n",
    "plt.tight_layout()\n",
    "plt.show()"
   ]
  },
  {
   "cell_type": "markdown",
   "id": "fb3dac94",
   "metadata": {},
   "source": [
    "We observe that the **category** feature is perfectly correlated with the fake/real classification, likely due to the fact that the fake and real news articles originated from separate datasets.\n",
    "\n",
    "**Category** will not be used as a predictive feature but to assess model performance over different domains of content. We allocate the categories to domains as follows:\n",
    "* news (*worldnews*, *News*, *US_News*, *Middle-east*)\n",
    "* politics (*politicsNews*, *left-news*, *politics*, *Government News*)\n",
    "* other\n",
    "\n",
    "It should be noted that we decide not to allocate any articles to 'other' since there are only two categories of real news."
   ]
  },
  {
   "cell_type": "code",
   "execution_count": null,
   "id": "0819873c",
   "metadata": {},
   "outputs": [],
   "source": [
    "# Define the mapping dictionary\n",
    "category_to_domain = {\n",
    "    'worldnews': 'news',\n",
    "    'News': 'news',\n",
    "    'US_News': 'news',\n",
    "    'Middle-east': 'news',\n",
    "    'politicsNews': 'politics',\n",
    "    'left-news': 'politics',\n",
    "    'politics': 'politics',\n",
    "    'Government News': 'politics'\n",
    "}\n",
    "\n",
    "# Create the new 'domain' column by mapping the 'category' values\n",
    "news_df_subset4['domain'] = news_df_subset4['category'].map(category_to_domain).fillna('other')\n"
   ]
  },
  {
   "cell_type": "markdown",
   "id": "58e057cf",
   "metadata": {},
   "source": [
    "### 2.4 Temporal Distribution Analysis\n",
    "\n",
    "We plot a histogram to visualise the distribution of articles over time."
   ]
  },
  {
   "cell_type": "code",
   "execution_count": 20,
   "id": "3f7b3959",
   "metadata": {},
   "outputs": [
    {
     "data": {
      "image/png": "[encoded data removed]",
      "text/plain": [
       "<Figure size 1200x600 with 1 Axes>"
      ]
     },
     "metadata": {},
     "output_type": "display_data"
    }
   ],
   "source": [
    "# Plot histogram\n",
    "plt.figure(figsize=(12, 6))\n",
    "sns.histplot(\n",
    "    data=news_df_subset4, \n",
    "    x='publication_date', \n",
    "    hue='label', \n",
    "    bins=50, \n",
    "    multiple='dodge',\n",
    "    palette={1: 'black', 0: 'lightgrey'}\n",
    "    )\n",
    "plt.title('Distribution of Articles by Date')\n",
    "plt.xlabel('Publication Date')\n",
    "plt.ylabel('Number of Articles')\n",
    "plt.xticks(rotation=45)\n",
    "plt.tight_layout()\n",
    "plt.show()"
   ]
  },
  {
   "cell_type": "code",
   "execution_count": 21,
   "id": "f3c2743b",
   "metadata": {},
   "outputs": [
    {
     "name": "stdout",
     "output_type": "stream",
     "text": [
      "Fake news articles range from 2015-03-31 00:00:00 to 2018-02-19 00:00:00\n",
      "Real news articles range from 2016-01-13 00:00:00 to 2017-12-31 00:00:00\n"
     ]
    }
   ],
   "source": [
    "# Earliest and latest publication dates for fake news\n",
    "fake_min = news_df_subset4[news_df_subset4['label'] == 1]['publication_date'].min()\n",
    "fake_max = news_df_subset4[news_df_subset4['label'] == 1]['publication_date'].max()\n",
    "print(f\"Fake news articles range from {fake_min} to {fake_max}\")\n",
    "\n",
    "# Earliest and latest publication dates for real news\n",
    "real_min = news_df_subset4[news_df_subset4['label'] == 0]['publication_date'].min()\n",
    "real_max = news_df_subset4[news_df_subset4['label'] == 0]['publication_date'].max()\n",
    "print(f\"Real news articles range from {real_min} to {real_max}\")"
   ]
  },
  {
   "cell_type": "markdown",
   "id": "12393f61",
   "metadata": {},
   "source": [
    "We observe that real news is generally under-represented prior to September 2017 and significantly over-represented thereafter. More importantly, both classes (real and fake) are not represented across the full timespan of the dataset.\n",
    "\n",
    "To improve class comparability with respect to **publication_date** - a feature likely to influence article/headline content - we restrict the dataset to articles published between **2016-01-13** and **2017-12-31**, inclusive. Articles falling outside this range are excluded."
   ]
  },
  {
   "cell_type": "code",
   "execution_count": 22,
   "id": "df99c92f",
   "metadata": {},
   "outputs": [],
   "source": [
    "# Filter out articles published before 2016-01-13 and after 2017-12-31\n",
    "news_df_subset5 = news_df_subset4[\n",
    "    (news_df_subset4['publication_date'] >= '2016-01-13') &\n",
    "    (news_df_subset4['publication_date'] <= '2017-12-31')\n",
    "    ].copy()"
   ]
  },
  {
   "cell_type": "code",
   "execution_count": 23,
   "id": "0af23693",
   "metadata": {},
   "outputs": [
    {
     "data": {
      "image/png": "[encoded data removed]",
      "text/plain": [
       "<Figure size 1200x600 with 1 Axes>"
      ]
     },
     "metadata": {},
     "output_type": "display_data"
    }
   ],
   "source": [
    "# Plot histogram of new subset\n",
    "plt.figure(figsize=(12, 6))\n",
    "sns.histplot(\n",
    "    data=news_df_subset5, \n",
    "    x='publication_date', \n",
    "    hue='label', \n",
    "    bins=50, \n",
    "    multiple='dodge',\n",
    "    palette={1: 'black', 0: 'lightgrey'}\n",
    "    )\n",
    "plt.title('Distribution of Articles by Date (filtered)')\n",
    "plt.xlabel('Publication Date')\n",
    "plt.ylabel('Number of Articles')\n",
    "plt.xticks(rotation=45)\n",
    "plt.tight_layout()\n",
    "plt.show()"
   ]
  },
  {
   "cell_type": "markdown",
   "id": "6cef282d",
   "metadata": {},
   "source": [
    "### 2.5 Feature Engineering\n",
    "#### 2.5.1 Text Length\n",
    "\n",
    "Before vectorizing the text for our baseline model, we extract simple features from each article’s headline and body. First, we create new columns to quantify the length of each article’s headline and text by both word and character count and plot these distributions."
   ]
  },
  {
   "cell_type": "code",
   "execution_count": 24,
   "id": "5bc092f8",
   "metadata": {},
   "outputs": [],
   "source": [
    "# Add character count columns\n",
    "news_df_subset5['headline_chars_count'] = news_df_subset5['headline'].str.len()\n",
    "news_df_subset5['article_chars_count'] = news_df_subset5['article_text'].str.len()\n",
    "\n",
    "# Add word count columns\n",
    "news_df_subset5['headline_word_count'] = news_df_subset5['headline'].str.split().str.len()\n",
    "news_df_subset5['article_word_count'] = news_df_subset5['article_text'].str.split().str.len()"
   ]
  },
  {
   "cell_type": "code",
   "execution_count": 25,
   "id": "629ade25",
   "metadata": {},
   "outputs": [
    {
     "data": {
      "image/png": "[encoded data removed]",
      "text/plain": [
       "<Figure size 1200x600 with 1 Axes>"
      ]
     },
     "metadata": {},
     "output_type": "display_data"
    }
   ],
   "source": [
    "# Extract article word counts by label\n",
    "real_word_counts = news_df_subset5[news_df_subset5['label'] == 0]['article_word_count']\n",
    "fake_word_counts = news_df_subset5[news_df_subset5['label'] == 1]['article_word_count']\n",
    "\n",
    "# Define bins\n",
    "bins = np.linspace(0, 1250, 251)\n",
    "\n",
    "# Compute histograms (counts)\n",
    "real_counts, _ = np.histogram(real_word_counts, bins=bins)\n",
    "fake_counts, _ = np.histogram(fake_word_counts, bins=bins)\n",
    "\n",
    "bin_centers = (bins[:-1] + bins[1:]) / 2\n",
    "width = bins[1] - bins[0]\n",
    "\n",
    "plt.figure(figsize=(12, 6))\n",
    "\n",
    "# Plot fake counts as positive bars\n",
    "plt.bar(bin_centers, fake_counts, width=width, color='black', label='Fake')\n",
    "\n",
    "# Plot fake counts as negative bars (mirrored)\n",
    "plt.bar(bin_centers, -real_counts, width=width, color='lightgrey', label='Real')\n",
    "\n",
    "plt.xlabel('Article Word Count')\n",
    "plt.ylabel('Number of Articles')\n",
    "plt.title('Distribution of Article Word Count')\n",
    "plt.xlim(0, 1250)\n",
    "plt.ylim(-750, 750)\n",
    "plt.axhline(0, color='black')\n",
    "\n",
    "plt.legend()\n",
    "plt.tight_layout()\n",
    "plt.show()"
   ]
  },
  {
   "cell_type": "code",
   "execution_count": 26,
   "id": "2e6e7f46",
   "metadata": {},
   "outputs": [
    {
     "data": {
      "image/png": "[encoded data removed]",
      "text/plain": [
       "<Figure size 1200x600 with 1 Axes>"
      ]
     },
     "metadata": {},
     "output_type": "display_data"
    }
   ],
   "source": [
    "# Extract headline word counts by label\n",
    "real_word_counts = news_df_subset5[news_df_subset5['label'] == 0]['headline_word_count']\n",
    "fake_word_counts = news_df_subset5[news_df_subset5['label'] == 1]['headline_word_count']\n",
    "\n",
    "# Define bins\n",
    "bins = np.arange(0, 31, 1)\n",
    "\n",
    "# Compute histograms (counts)\n",
    "real_counts, _ = np.histogram(real_word_counts, bins=bins)\n",
    "fake_counts, _ = np.histogram(fake_word_counts, bins=bins)\n",
    "\n",
    "bin_centers = (bins[:-1] + bins[1:]) / 2\n",
    "width = 1\n",
    "\n",
    "plt.figure(figsize=(12, 6))\n",
    "\n",
    "# Plot fake counts as positive bars\n",
    "plt.bar(bin_centers, fake_counts, width=width, color='black', label='Fake')\n",
    "\n",
    "# Plot fake counts as negative bars (mirrored)\n",
    "plt.bar(bin_centers, -real_counts, width=width, color='lightgrey', label='Real')\n",
    "\n",
    "plt.xlabel('Headline Word Count')\n",
    "plt.ylabel('Number of Articles')\n",
    "plt.title('Distribution of Headline Word Count')\n",
    "plt.xlim(0, 30)\n",
    "plt.ylim(-6000, 6000)\n",
    "plt.axhline(0, color='black')\n",
    "\n",
    "plt.legend()\n",
    "plt.tight_layout()\n",
    "plt.show()"
   ]
  },
  {
   "cell_type": "markdown",
   "id": "1d14749f",
   "metadata": {},
   "source": [
    "We observe notable differences in the distributions of headline word count between the two classes (real and fake news)."
   ]
  },
  {
   "cell_type": "markdown",
   "id": "210b1da0",
   "metadata": {},
   "source": [
    "#### 2.5.2 Special Characters\n",
    "We create columns to quantify the percentage of special characters !@£$%^&*() in the article headline and text."
   ]
  },
  {
   "cell_type": "code",
   "execution_count": 27,
   "id": "65a43022",
   "metadata": {},
   "outputs": [],
   "source": [
    "# Define special characters\n",
    "special_chars = r'[!@£$%^&*()]'\n",
    "\n",
    "# Calculate % of special characters in headline\n",
    "news_df_subset5['headline_special_chars'] = news_df_subset5['headline'].str.count(special_chars) / news_df_subset5['headline_chars_count'] * 100\n",
    "\n",
    "# Calculate % of special characters in article text\n",
    "news_df_subset5['article_special_chars'] = news_df_subset5['article_text'].str.count(special_chars) / news_df_subset5['article_chars_count'] * 100"
   ]
  },
  {
   "cell_type": "code",
   "execution_count": 28,
   "id": "80b8d676",
   "metadata": {},
   "outputs": [
    {
     "data": {
      "image/png": "[encoded data removed]",
      "text/plain": [
       "<Figure size 1200x600 with 1 Axes>"
      ]
     },
     "metadata": {},
     "output_type": "display_data"
    }
   ],
   "source": [
    "# Extract % special character in headline by label\n",
    "real_spec_char_counts = news_df_subset5[news_df_subset5['label'] == 0]['headline_special_chars']\n",
    "fake_spec_char_counts = news_df_subset5[news_df_subset5['label'] == 1]['headline_special_chars']\n",
    "\n",
    "# Set number of bins\n",
    "num_bins = 200\n",
    "combined = np.concatenate([real_spec_char_counts, fake_spec_char_counts])\n",
    "bins = np.linspace(combined.min(), combined.max(), num_bins + 1)\n",
    "\n",
    "# Compute histograms (counts)\n",
    "real_counts, _ = np.histogram(real_spec_char_counts, bins=bins)\n",
    "fake_counts, _ = np.histogram(fake_spec_char_counts, bins=bins)\n",
    "\n",
    "# Compute bin centers and bar width\n",
    "bin_centers = (bins[:-1] + bins[1:]) / 2\n",
    "width = np.diff(bins)[0]\n",
    "\n",
    "# Plot\n",
    "plt.figure(figsize=(12, 6))\n",
    "\n",
    "# Plot fake counts as positive bars\n",
    "plt.bar(bin_centers, fake_counts, width=width, color='black', label='Fake')\n",
    "\n",
    "# Plot real counts as negative bars (mirrored)\n",
    "plt.bar(bin_centers, -real_counts, width=width, color='lightgrey', label='Real')\n",
    "\n",
    "plt.xlabel('% Special Characters')\n",
    "plt.ylabel('Number of Articles')\n",
    "plt.title('Distribution of % Special Characters in Article Headline')\n",
    "plt.xlim(0, 4)\n",
    "plt.ylim(-500, 500)\n",
    "plt.axhline(0, color='black')\n",
    "\n",
    "plt.legend()\n",
    "plt.tight_layout()\n",
    "plt.show()"
   ]
  },
  {
   "cell_type": "code",
   "execution_count": 29,
   "id": "580509f6",
   "metadata": {},
   "outputs": [
    {
     "name": "stderr",
     "output_type": "stream",
     "text": [
      "/Users/dpb24/Library/Python/3.9/lib/python/site-packages/IPython/core/pylabtools.py:152: UserWarning: Creating legend with loc=\"best\" can be slow with large amounts of data.\n",
      "  fig.canvas.print_figure(bytes_io, **kw)\n"
     ]
    },
    {
     "data": {
      "image/png": "[encoded data removed]",
      "text/plain": [
       "<Figure size 1200x600 with 1 Axes>"
      ]
     },
     "metadata": {},
     "output_type": "display_data"
    }
   ],
   "source": [
    "# Extract % special character in article by label\n",
    "real_spec_char_counts = news_df_subset5[news_df_subset5['label'] == 0]['article_special_chars']\n",
    "fake_spec_char_counts = news_df_subset5[news_df_subset5['label'] == 1]['article_special_chars']\n",
    "\n",
    "# Set number of bins\n",
    "num_bins = 5000\n",
    "combined = np.concatenate([real_spec_char_counts, fake_spec_char_counts])\n",
    "bins = np.linspace(combined.min(), combined.max(), num_bins + 1)\n",
    "\n",
    "# Compute histograms (counts)\n",
    "real_counts, _ = np.histogram(real_spec_char_counts, bins=bins)\n",
    "fake_counts, _ = np.histogram(fake_spec_char_counts, bins=bins)\n",
    "\n",
    "# Compute bin centers and bar width\n",
    "bin_centers = (bins[:-1] + bins[1:]) / 2\n",
    "width = np.diff(bins)[0]\n",
    "\n",
    "# Plot\n",
    "plt.figure(figsize=(12, 6))\n",
    "\n",
    "# Plot fake counts as positive bars\n",
    "plt.bar(bin_centers, fake_counts, width=width, color='black', label='Fake')\n",
    "\n",
    "# Plot real counts as negative bars (mirrored)\n",
    "plt.bar(bin_centers, -real_counts, width=width, color='lightgrey', label='Real')\n",
    "\n",
    "plt.xlabel('% Special Characters')\n",
    "plt.ylabel('Number of Articles')\n",
    "plt.title('Distribution of % Special Characters in Article Text')\n",
    "plt.xlim(0, 0.6)\n",
    "plt.ylim(-6000, 6000)\n",
    "plt.axhline(0, color='black')\n",
    "\n",
    "plt.legend()\n",
    "plt.tight_layout()\n",
    "plt.show()"
   ]
  },
  {
   "cell_type": "markdown",
   "id": "9e0533a3",
   "metadata": {},
   "source": [
    "We observe notable differences in the distributions of the percentage of special characters in article headlines between real and fake news classes."
   ]
  },
  {
   "cell_type": "markdown",
   "id": "56a0444c",
   "metadata": {},
   "source": [
    "#### 2.5.3 Capitalised characters\n",
    "Finally, we create new columns to quantify the percentage of capitalised characters in both the article headline and the main text."
   ]
  },
  {
   "cell_type": "code",
   "execution_count": 30,
   "id": "67e398c1",
   "metadata": {},
   "outputs": [],
   "source": [
    "# Calculate % of capitalised characters in headline\n",
    "news_df_subset5['headline_capitalised'] = (news_df_subset5['headline'].str.count(r'[A-Z]') / news_df_subset5['headline_chars_count']) * 100\n",
    "\n",
    "# Calculate % of capitalised characters in article text\n",
    "news_df_subset5['article_capitalised'] = (news_df_subset5['article_text'].str.count(r'[A-Z]') / news_df_subset5['article_chars_count']) * 100"
   ]
  },
  {
   "cell_type": "code",
   "execution_count": 31,
   "id": "58bdd59b",
   "metadata": {},
   "outputs": [
    {
     "data": {
      "image/png": "[encoded data removed]",
      "text/plain": [
       "<Figure size 1200x600 with 1 Axes>"
      ]
     },
     "metadata": {},
     "output_type": "display_data"
    }
   ],
   "source": [
    "# Extract % capitalised % special character in headline by label\n",
    "real_capitalised = news_df_subset5[news_df_subset5['label'] == 0]['headline_capitalised']\n",
    "fake_capitalised = news_df_subset5[news_df_subset5['label'] == 1]['headline_capitalised']\n",
    "\n",
    "# Set number of bins\n",
    "num_bins = 200\n",
    "combined = np.concatenate([real_capitalised, fake_capitalised])\n",
    "bins = np.linspace(combined.min(), combined.max(), num_bins + 1)\n",
    "\n",
    "# Compute histograms (counts)\n",
    "real_counts, _ = np.histogram(real_capitalised, bins=bins)\n",
    "fake_counts, _ = np.histogram(fake_capitalised, bins=bins)\n",
    "\n",
    "# Compute bin centers and bar width\n",
    "bin_centers = (bins[:-1] + bins[1:]) / 2\n",
    "width = np.diff(bins)[0]\n",
    "\n",
    "# Plot\n",
    "plt.figure(figsize=(12, 6))\n",
    "\n",
    "# Plot fake counts as positive bars\n",
    "plt.bar(bin_centers, fake_counts, width=width, color='black', label='Fake')\n",
    "\n",
    "# Plot real counts as negative bars (mirrored)\n",
    "plt.bar(bin_centers, -real_counts, width=width, color='lightgrey', label='Real')\n",
    "\n",
    "plt.xlabel('% Capitalised Characters')\n",
    "plt.ylabel('Number of Articles')\n",
    "plt.title('Distribution of % Capitalised Characters in Article Headline')\n",
    "plt.axhline(0, color='black')\n",
    "\n",
    "plt.legend()\n",
    "plt.tight_layout()\n",
    "plt.show()"
   ]
  },
  {
   "cell_type": "code",
   "execution_count": 32,
   "id": "9d208a2f",
   "metadata": {},
   "outputs": [
    {
     "data": {
      "image/png": "[encoded data removed]",
      "text/plain": [
       "<Figure size 1200x600 with 1 Axes>"
      ]
     },
     "metadata": {},
     "output_type": "display_data"
    }
   ],
   "source": [
    "# Extract % capitalised % special character in article text by label\n",
    "real_capitalised = news_df_subset5[news_df_subset5['label'] == 0]['article_capitalised']\n",
    "fake_capitalised = news_df_subset5[news_df_subset5['label'] == 1]['article_capitalised']\n",
    "\n",
    "# Set number of bins\n",
    "num_bins = 1000\n",
    "combined = np.concatenate([real_capitalised, fake_capitalised])\n",
    "bins = np.linspace(combined.min(), combined.max(), num_bins + 1)\n",
    "\n",
    "# Compute histograms (counts)\n",
    "real_counts, _ = np.histogram(real_capitalised, bins=bins)\n",
    "fake_counts, _ = np.histogram(fake_capitalised, bins=bins)\n",
    "\n",
    "# Compute bin centers and bar width\n",
    "bin_centers = (bins[:-1] + bins[1:]) / 2\n",
    "width = np.diff(bins)[0]\n",
    "\n",
    "# Plot\n",
    "plt.figure(figsize=(12, 6))\n",
    "\n",
    "# Plot fake counts as positive bars\n",
    "plt.bar(bin_centers, fake_counts, width=width, color='black', label='Fake')\n",
    "\n",
    "# Plot real counts as negative bars (mirrored)\n",
    "plt.bar(bin_centers, -real_counts, width=width, color='lightgrey', label='Real')\n",
    "\n",
    "plt.xlabel('% Capitalised Characters')\n",
    "plt.ylabel('Number of Articles')\n",
    "plt.title('Distribution of % Capitalised Characters in Article Text')\n",
    "plt.xlim(0, 10)\n",
    "plt.ylim(-1000, 1000)\n",
    "plt.axhline(0, color='black')\n",
    "\n",
    "plt.legend()\n",
    "plt.tight_layout()\n",
    "plt.show()"
   ]
  },
  {
   "cell_type": "markdown",
   "id": "e1f66cbc",
   "metadata": {},
   "source": [
    "We observe notable differences in the distributions of the percentage of capitalised characters in article text between real and fake news classes."
   ]
  },
  {
   "cell_type": "markdown",
   "id": "0f2366bb",
   "metadata": {},
   "source": [
    "#### 2.5.4 Text vectorization\n",
    "\n",
    "We now implement Bag of Words (BoW) text vectorization method which is a foundational technique in Natural Language Processing (NLP) for converting text into a numerical format.\n",
    "\n",
    "We create a new column combining **headline** and **article_text**."
   ]
  },
  {
   "cell_type": "code",
   "execution_count": 33,
   "id": "ab74c8cb",
   "metadata": {},
   "outputs": [],
   "source": [
    "# Create new column combined headline and article text\n",
    "news_df_subset5['combined_text'] = news_df_subset5['headline'] + ' ' + news_df_subset5['article_text']\n"
   ]
  },
  {
   "cell_type": "markdown",
   "id": "19bb7aee",
   "metadata": {},
   "source": [
    "We initialise the *scikit-learn* CountVectorizer object, specifying the built-in list of English stop words (common words such as \"and\", \"the\", etc) to be excluded. We also set a feature limit to retain only the top 5,000 most frequent words in the Bag-of-Words model."
   ]
  },
  {
   "cell_type": "code",
   "execution_count": 34,
   "id": "3c07a29e",
   "metadata": {},
   "outputs": [],
   "source": [
    "# Create CountVectorizer Object\n",
    "vectorizer = CountVectorizer(stop_words='english', max_features=5000)"
   ]
  },
  {
   "cell_type": "markdown",
   "id": "1900c04a",
   "metadata": {},
   "source": [
    "We apply the CountVectorizer to the **combined_text** column to convert the text data into a matrix of token counts."
   ]
  },
  {
   "cell_type": "code",
   "execution_count": 35,
   "id": "eb7447fe",
   "metadata": {},
   "outputs": [],
   "source": [
    "# Fit and transform the text\n",
    "vectorized_text = vectorizer.fit_transform(news_df_subset5['combined_text'])"
   ]
  },
  {
   "cell_type": "code",
   "execution_count": 36,
   "id": "ee66f1f8",
   "metadata": {},
   "outputs": [
    {
     "data": {
      "text/plain": [
       "(41754, 5000)"
      ]
     },
     "execution_count": 36,
     "metadata": {},
     "output_type": "execute_result"
    }
   ],
   "source": [
    "# Convert to vectorized text to DataFrame\n",
    "vectorized_text_df = pd.DataFrame(vectorized_text.toarray(), columns=vectorizer.get_feature_names_out())\n",
    "\n",
    "# Check shape of vectorized text DataFrame\n",
    "vectorized_text_df.shape"
   ]
  },
  {
   "cell_type": "code",
   "execution_count": 37,
   "id": "adf72380",
   "metadata": {},
   "outputs": [
    {
     "data": {
      "text/plain": [
       "(41754, 14)"
      ]
     },
     "execution_count": 37,
     "metadata": {},
     "output_type": "execute_result"
    }
   ],
   "source": [
    "# Check shape of pre-vectorized text DataFrame\n",
    "news_df_subset5.shape"
   ]
  },
  {
   "cell_type": "markdown",
   "id": "98cdd8d2",
   "metadata": {},
   "source": [
    "## 3 Baseline Model Construction\n",
    "\n",
    "We begin by building two baseline Machine Learning models — Decision Tree and XGBoost — to classify news articles using a combined set of features that includes both text-based representations (Bag-of-Words) and engineered numerical features.\n",
    "\n",
    "The Decision Tree model is fast to train and highly interpretable, making it an ideal starting point for baseline evaluation. However, it is prone to overfitting and generally offers lower predictive performance compared to ensemble and more advanced models.\n",
    "\n",
    "XGBoost is known for delivering high accuracy and includes built-in regularization mechanisms that improve robustness to overfitting. It is highly scalable and efficient, making it suitable for both small and large datasets. While it offers insight into feature importance, its interpretability is lower than that of a single decision tree.\n",
    "\n",
    "If time permits, we also intend to build a Support Vector Machine (SVM) model. According to the literature, SVMs handle high-dimensional and sparse data effectively, are robust to overfitting, and often perform strongly in text classification tasks."
   ]
  },
  {
   "cell_type": "markdown",
   "id": "a9444fa0",
   "metadata": {},
   "source": [
    "### 3.1 Final Feature Selection\n",
    "\n",
    "To ensure efficient model training, we include only engineered features that demonstrated a meaningful difference between classes during exploratory analysis.\n",
    "\n",
    "We exclude the article **category** feature because it is an artefact of the dataset and would limit application of our model which we wish to rely solely on features derivable from the headline or article text.\n",
    "\n",
    "| Target ($y$)                      | Features ($x_i$)|\n",
    "|---------------------------------------------|----------------------------------------|\n",
    "| **label** (0 = real, 1 = fake) |  Bag of Words vectorized text representation  |\n",
    "|                 |  **headline_special_chars** (numeric)  |\n",
    "|                 |  **headline_capitalised** (numeric)    |"
   ]
  },
  {
   "cell_type": "markdown",
   "id": "757577b4",
   "metadata": {},
   "source": [
    "### 3.2 Split the data\n",
    "We assign the target variable and isolate the relevant features that will be used by the Machine Learning models."
   ]
  },
  {
   "cell_type": "code",
   "execution_count": 38,
   "id": "582ad081",
   "metadata": {},
   "outputs": [],
   "source": [
    "# Assign target variable\n",
    "y = news_df_subset5['label']\n",
    "\n",
    "# Select engineered numeric features as a DataFrame\n",
    "engineered_features = news_df_subset5[['headline_special_chars', 'headline_capitalised']]\n",
    "\n",
    "# Combine vectorized text features and engineered numeric features\n",
    "X = pd.concat([vectorized_text_df.reset_index(drop=True), engineered_features.reset_index(drop=True)], axis=1)\n"
   ]
  },
  {
   "cell_type": "markdown",
   "id": "67198242",
   "metadata": {},
   "source": [
    "Split data into training and testing sets, 80/20."
   ]
  },
  {
   "cell_type": "code",
   "execution_count": 39,
   "id": "856148c0",
   "metadata": {},
   "outputs": [],
   "source": [
    "# Split the data into training and testing sets\n",
    "X_tr, X_test, y_tr, y_test = train_test_split(X,y, test_size=0.2, random_state=42)"
   ]
  },
  {
   "cell_type": "markdown",
   "id": "05535488",
   "metadata": {},
   "source": [
    "Split the training set into training and validation sets, 75/25, to result in a final ratio of 60/20/20 for train/validate/test sets."
   ]
  },
  {
   "cell_type": "code",
   "execution_count": 40,
   "id": "5d40cd58",
   "metadata": {},
   "outputs": [],
   "source": [
    "# Split the training data into training and validation sets\n",
    "X_train, X_val, y_train, y_val = train_test_split(X_tr, y_tr, test_size=0.25, random_state=42)"
   ]
  },
  {
   "cell_type": "markdown",
   "id": "fff0cf11",
   "metadata": {},
   "source": [
    "Confirm that the dimensions of the training, validation, and testing sets are in alignment."
   ]
  },
  {
   "cell_type": "code",
   "execution_count": 41,
   "id": "1b2fc0f6",
   "metadata": {},
   "outputs": [
    {
     "data": {
      "text/plain": [
       "((25052, 5002), (8351, 5002), (8351, 5002), (25052,), (8351,), (8351,))"
      ]
     },
     "execution_count": 41,
     "metadata": {},
     "output_type": "execute_result"
    }
   ],
   "source": [
    "# Get shape of each training, validation, and testing set\n",
    "X_train.shape, X_val.shape, X_test.shape, y_train.shape, y_val.shape, y_test.shape"
   ]
  },
  {
   "cell_type": "markdown",
   "id": "9a28c8c3",
   "metadata": {},
   "source": [
    "### 3.3 Build Baseline Models\n",
    "#### 3.3.1 Decision Tree\n",
    "\n",
    "We fit a decision tree classification model to the training set, and hyperparameters are tuned using GridSearchCV, which selects the best model based on the F1 score."
   ]
  },
  {
   "cell_type": "code",
   "execution_count": 42,
   "id": "7589587f",
   "metadata": {},
   "outputs": [],
   "source": [
    "# Instantiate the decision tree classifier\n",
    "dt = DecisionTreeClassifier(random_state=0)\n",
    "\n",
    "# Create a dictionary of hyperparameters to search over\n",
    "cv_params = {'max_depth': [5, 7, None],\n",
    "             'max_features': ['sqrt', 0.3, 0.6],\n",
    "             'min_samples_leaf': [1, 2],\n",
    "             'min_samples_split': [2, 3],\n",
    "             }\n",
    "\n",
    "# Define scoring metrics for classification\n",
    "scoring = ['accuracy', 'precision', 'recall', 'f1']\n",
    "\n",
    "# Instantiate the GridSearchCV object for cross-validation\n",
    "dt_cv = GridSearchCV(\n",
    "    estimator=dt,\n",
    "    param_grid=cv_params,\n",
    "    scoring=scoring,\n",
    "    cv=5,\n",
    "    refit='f1',\n",
    "    return_train_score=True\n",
    "    )"
   ]
  },
  {
   "cell_type": "code",
   "execution_count": 43,
   "id": "c2bfa9e1",
   "metadata": {},
   "outputs": [
    {
     "name": "stdout",
     "output_type": "stream",
     "text": [
      "CPU times: user 9min 44s, sys: 10min 36s, total: 20min 21s\n",
      "Wall time: 25min 14s\n"
     ]
    },
    {
     "data": {
      "text/html": [
       "<style>#sk-container-id-1 {\n",
       "  /* Definition of color scheme common for light and dark mode */\n",
       "  --sklearn-color-text: #000;\n",
       "  --sklearn-color-text-muted: #666;\n",
       "  --sklearn-color-line: gray;\n",
       "  /* Definition of color scheme for unfitted estimators */\n",
       "  --sklearn-color-unfitted-level-0: #fff5e6;\n",
       "  --sklearn-color-unfitted-level-1: #f6e4d2;\n",
       "  --sklearn-color-unfitted-level-2: #ffe0b3;\n",
       "  --sklearn-color-unfitted-level-3: chocolate;\n",
       "  /* Definition of color scheme for fitted estimators */\n",
       "  --sklearn-color-fitted-level-0: #f0f8ff;\n",
       "  --sklearn-color-fitted-level-1: #d4ebff;\n",
       "  --sklearn-color-fitted-level-2: #b3dbfd;\n",
       "  --sklearn-color-fitted-level-3: cornflowerblue;\n",
       "\n",
       "  /* Specific color for light theme */\n",
       "  --sklearn-color-text-on-default-background: var(--sg-text-color, var(--theme-code-foreground, var(--jp-content-font-color1, black)));\n",
       "  --sklearn-color-background: var(--sg-background-color, var(--theme-background, var(--jp-layout-color0, white)));\n",
       "  --sklearn-color-border-box: var(--sg-text-color, var(--theme-code-foreground, var(--jp-content-font-color1, black)));\n",
       "  --sklearn-color-icon: #696969;\n",
       "\n",
       "  @media (prefers-color-scheme: dark) {\n",
       "    /* Redefinition of color scheme for dark theme */\n",
       "    --sklearn-color-text-on-default-background: var(--sg-text-color, var(--theme-code-foreground, var(--jp-content-font-color1, white)));\n",
       "    --sklearn-color-background: var(--sg-background-color, var(--theme-background, var(--jp-layout-color0, #111)));\n",
       "    --sklearn-color-border-box: var(--sg-text-color, var(--theme-code-foreground, var(--jp-content-font-color1, white)));\n",
       "    --sklearn-color-icon: #878787;\n",
       "  }\n",
       "}\n",
       "\n",
       "#sk-container-id-1 {\n",
       "  color: var(--sklearn-color-text);\n",
       "}\n",
       "\n",
       "#sk-container-id-1 pre {\n",
       "  padding: 0;\n",
       "}\n",
       "\n",
       "#sk-container-id-1 input.sk-hidden--visually {\n",
       "  border: 0;\n",
       "  clip: rect(1px 1px 1px 1px);\n",
       "  clip: rect(1px, 1px, 1px, 1px);\n",
       "  height: 1px;\n",
       "  margin: -1px;\n",
       "  overflow: hidden;\n",
       "  padding: 0;\n",
       "  position: absolute;\n",
       "  width: 1px;\n",
       "}\n",
       "\n",
       "#sk-container-id-1 div.sk-dashed-wrapped {\n",
       "  border: 1px dashed var(--sklearn-color-line);\n",
       "  margin: 0 0.4em 0.5em 0.4em;\n",
       "  box-sizing: border-box;\n",
       "  padding-bottom: 0.4em;\n",
       "  background-color: var(--sklearn-color-background);\n",
       "}\n",
       "\n",
       "#sk-container-id-1 div.sk-container {\n",
       "  /* jupyter's `normalize.less` sets `[hidden] { display: none; }`\n",
       "     but bootstrap.min.css set `[hidden] { display: none !important; }`\n",
       "     so we also need the `!important` here to be able to override the\n",
       "     default hidden behavior on the sphinx rendered scikit-learn.org.\n",
       "     See: https://github.com/scikit-learn/scikit-learn/issues/21755 */\n",
       "  display: inline-block !important;\n",
       "  position: relative;\n",
       "}\n",
       "\n",
       "#sk-container-id-1 div.sk-text-repr-fallback {\n",
       "  display: none;\n",
       "}\n",
       "\n",
       "div.sk-parallel-item,\n",
       "div.sk-serial,\n",
       "div.sk-item {\n",
       "  /* draw centered vertical line to link estimators */\n",
       "  background-image: linear-gradient(var(--sklearn-color-text-on-default-background), var(--sklearn-color-text-on-default-background));\n",
       "  background-size: 2px 100%;\n",
       "  background-repeat: no-repeat;\n",
       "  background-position: center center;\n",
       "}\n",
       "\n",
       "/* Parallel-specific style estimator block */\n",
       "\n",
       "#sk-container-id-1 div.sk-parallel-item::after {\n",
       "  content: \"\";\n",
       "  width: 100%;\n",
       "  border-bottom: 2px solid var(--sklearn-color-text-on-default-background);\n",
       "  flex-grow: 1;\n",
       "}\n",
       "\n",
       "#sk-container-id-1 div.sk-parallel {\n",
       "  display: flex;\n",
       "  align-items: stretch;\n",
       "  justify-content: center;\n",
       "  background-color: var(--sklearn-color-background);\n",
       "  position: relative;\n",
       "}\n",
       "\n",
       "#sk-container-id-1 div.sk-parallel-item {\n",
       "  display: flex;\n",
       "  flex-direction: column;\n",
       "}\n",
       "\n",
       "#sk-container-id-1 div.sk-parallel-item:first-child::after {\n",
       "  align-self: flex-end;\n",
       "  width: 50%;\n",
       "}\n",
       "\n",
       "#sk-container-id-1 div.sk-parallel-item:last-child::after {\n",
       "  align-self: flex-start;\n",
       "  width: 50%;\n",
       "}\n",
       "\n",
       "#sk-container-id-1 div.sk-parallel-item:only-child::after {\n",
       "  width: 0;\n",
       "}\n",
       "\n",
       "/* Serial-specific style estimator block */\n",
       "\n",
       "#sk-container-id-1 div.sk-serial {\n",
       "  display: flex;\n",
       "  flex-direction: column;\n",
       "  align-items: center;\n",
       "  background-color: var(--sklearn-color-background);\n",
       "  padding-right: 1em;\n",
       "  padding-left: 1em;\n",
       "}\n",
       "\n",
       "\n",
       "/* Toggleable style: style used for estimator/Pipeline/ColumnTransformer box that is\n",
       "clickable and can be expanded/collapsed.\n",
       "- Pipeline and ColumnTransformer use this feature and define the default style\n",
       "- Estimators will overwrite some part of the style using the `sk-estimator` class\n",
       "*/\n",
       "\n",
       "/* Pipeline and ColumnTransformer style (default) */\n",
       "\n",
       "#sk-container-id-1 div.sk-toggleable {\n",
       "  /* Default theme specific background. It is overwritten whether we have a\n",
       "  specific estimator or a Pipeline/ColumnTransformer */\n",
       "  background-color: var(--sklearn-color-background);\n",
       "}\n",
       "\n",
       "/* Toggleable label */\n",
       "#sk-container-id-1 label.sk-toggleable__label {\n",
       "  cursor: pointer;\n",
       "  display: flex;\n",
       "  width: 100%;\n",
       "  margin-bottom: 0;\n",
       "  padding: 0.5em;\n",
       "  box-sizing: border-box;\n",
       "  text-align: center;\n",
       "  align-items: start;\n",
       "  justify-content: space-between;\n",
       "  gap: 0.5em;\n",
       "}\n",
       "\n",
       "#sk-container-id-1 label.sk-toggleable__label .caption {\n",
       "  font-size: 0.6rem;\n",
       "  font-weight: lighter;\n",
       "  color: var(--sklearn-color-text-muted);\n",
       "}\n",
       "\n",
       "#sk-container-id-1 label.sk-toggleable__label-arrow:before {\n",
       "  /* Arrow on the left of the label */\n",
       "  content: \"▸\";\n",
       "  float: left;\n",
       "  margin-right: 0.25em;\n",
       "  color: var(--sklearn-color-icon);\n",
       "}\n",
       "\n",
       "#sk-container-id-1 label.sk-toggleable__label-arrow:hover:before {\n",
       "  color: var(--sklearn-color-text);\n",
       "}\n",
       "\n",
       "/* Toggleable content - dropdown */\n",
       "\n",
       "#sk-container-id-1 div.sk-toggleable__content {\n",
       "  max-height: 0;\n",
       "  max-width: 0;\n",
       "  overflow: hidden;\n",
       "  text-align: left;\n",
       "  /* unfitted */\n",
       "  background-color: var(--sklearn-color-unfitted-level-0);\n",
       "}\n",
       "\n",
       "#sk-container-id-1 div.sk-toggleable__content.fitted {\n",
       "  /* fitted */\n",
       "  background-color: var(--sklearn-color-fitted-level-0);\n",
       "}\n",
       "\n",
       "#sk-container-id-1 div.sk-toggleable__content pre {\n",
       "  margin: 0.2em;\n",
       "  border-radius: 0.25em;\n",
       "  color: var(--sklearn-color-text);\n",
       "  /* unfitted */\n",
       "  background-color: var(--sklearn-color-unfitted-level-0);\n",
       "}\n",
       "\n",
       "#sk-container-id-1 div.sk-toggleable__content.fitted pre {\n",
       "  /* unfitted */\n",
       "  background-color: var(--sklearn-color-fitted-level-0);\n",
       "}\n",
       "\n",
       "#sk-container-id-1 input.sk-toggleable__control:checked~div.sk-toggleable__content {\n",
       "  /* Expand drop-down */\n",
       "  max-height: 200px;\n",
       "  max-width: 100%;\n",
       "  overflow: auto;\n",
       "}\n",
       "\n",
       "#sk-container-id-1 input.sk-toggleable__control:checked~label.sk-toggleable__label-arrow:before {\n",
       "  content: \"▾\";\n",
       "}\n",
       "\n",
       "/* Pipeline/ColumnTransformer-specific style */\n",
       "\n",
       "#sk-container-id-1 div.sk-label input.sk-toggleable__control:checked~label.sk-toggleable__label {\n",
       "  color: var(--sklearn-color-text);\n",
       "  background-color: var(--sklearn-color-unfitted-level-2);\n",
       "}\n",
       "\n",
       "#sk-container-id-1 div.sk-label.fitted input.sk-toggleable__control:checked~label.sk-toggleable__label {\n",
       "  background-color: var(--sklearn-color-fitted-level-2);\n",
       "}\n",
       "\n",
       "/* Estimator-specific style */\n",
       "\n",
       "/* Colorize estimator box */\n",
       "#sk-container-id-1 div.sk-estimator input.sk-toggleable__control:checked~label.sk-toggleable__label {\n",
       "  /* unfitted */\n",
       "  background-color: var(--sklearn-color-unfitted-level-2);\n",
       "}\n",
       "\n",
       "#sk-container-id-1 div.sk-estimator.fitted input.sk-toggleable__control:checked~label.sk-toggleable__label {\n",
       "  /* fitted */\n",
       "  background-color: var(--sklearn-color-fitted-level-2);\n",
       "}\n",
       "\n",
       "#sk-container-id-1 div.sk-label label.sk-toggleable__label,\n",
       "#sk-container-id-1 div.sk-label label {\n",
       "  /* The background is the default theme color */\n",
       "  color: var(--sklearn-color-text-on-default-background);\n",
       "}\n",
       "\n",
       "/* On hover, darken the color of the background */\n",
       "#sk-container-id-1 div.sk-label:hover label.sk-toggleable__label {\n",
       "  color: var(--sklearn-color-text);\n",
       "  background-color: var(--sklearn-color-unfitted-level-2);\n",
       "}\n",
       "\n",
       "/* Label box, darken color on hover, fitted */\n",
       "#sk-container-id-1 div.sk-label.fitted:hover label.sk-toggleable__label.fitted {\n",
       "  color: var(--sklearn-color-text);\n",
       "  background-color: var(--sklearn-color-fitted-level-2);\n",
       "}\n",
       "\n",
       "/* Estimator label */\n",
       "\n",
       "#sk-container-id-1 div.sk-label label {\n",
       "  font-family: monospace;\n",
       "  font-weight: bold;\n",
       "  display: inline-block;\n",
       "  line-height: 1.2em;\n",
       "}\n",
       "\n",
       "#sk-container-id-1 div.sk-label-container {\n",
       "  text-align: center;\n",
       "}\n",
       "\n",
       "/* Estimator-specific */\n",
       "#sk-container-id-1 div.sk-estimator {\n",
       "  font-family: monospace;\n",
       "  border: 1px dotted var(--sklearn-color-border-box);\n",
       "  border-radius: 0.25em;\n",
       "  box-sizing: border-box;\n",
       "  margin-bottom: 0.5em;\n",
       "  /* unfitted */\n",
       "  background-color: var(--sklearn-color-unfitted-level-0);\n",
       "}\n",
       "\n",
       "#sk-container-id-1 div.sk-estimator.fitted {\n",
       "  /* fitted */\n",
       "  background-color: var(--sklearn-color-fitted-level-0);\n",
       "}\n",
       "\n",
       "/* on hover */\n",
       "#sk-container-id-1 div.sk-estimator:hover {\n",
       "  /* unfitted */\n",
       "  background-color: var(--sklearn-color-unfitted-level-2);\n",
       "}\n",
       "\n",
       "#sk-container-id-1 div.sk-estimator.fitted:hover {\n",
       "  /* fitted */\n",
       "  background-color: var(--sklearn-color-fitted-level-2);\n",
       "}\n",
       "\n",
       "/* Specification for estimator info (e.g. \"i\" and \"?\") */\n",
       "\n",
       "/* Common style for \"i\" and \"?\" */\n",
       "\n",
       ".sk-estimator-doc-link,\n",
       "a:link.sk-estimator-doc-link,\n",
       "a:visited.sk-estimator-doc-link {\n",
       "  float: right;\n",
       "  font-size: smaller;\n",
       "  line-height: 1em;\n",
       "  font-family: monospace;\n",
       "  background-color: var(--sklearn-color-background);\n",
       "  border-radius: 1em;\n",
       "  height: 1em;\n",
       "  width: 1em;\n",
       "  text-decoration: none !important;\n",
       "  margin-left: 0.5em;\n",
       "  text-align: center;\n",
       "  /* unfitted */\n",
       "  border: var(--sklearn-color-unfitted-level-1) 1pt solid;\n",
       "  color: var(--sklearn-color-unfitted-level-1);\n",
       "}\n",
       "\n",
       ".sk-estimator-doc-link.fitted,\n",
       "a:link.sk-estimator-doc-link.fitted,\n",
       "a:visited.sk-estimator-doc-link.fitted {\n",
       "  /* fitted */\n",
       "  border: var(--sklearn-color-fitted-level-1) 1pt solid;\n",
       "  color: var(--sklearn-color-fitted-level-1);\n",
       "}\n",
       "\n",
       "/* On hover */\n",
       "div.sk-estimator:hover .sk-estimator-doc-link:hover,\n",
       ".sk-estimator-doc-link:hover,\n",
       "div.sk-label-container:hover .sk-estimator-doc-link:hover,\n",
       ".sk-estimator-doc-link:hover {\n",
       "  /* unfitted */\n",
       "  background-color: var(--sklearn-color-unfitted-level-3);\n",
       "  color: var(--sklearn-color-background);\n",
       "  text-decoration: none;\n",
       "}\n",
       "\n",
       "div.sk-estimator.fitted:hover .sk-estimator-doc-link.fitted:hover,\n",
       ".sk-estimator-doc-link.fitted:hover,\n",
       "div.sk-label-container:hover .sk-estimator-doc-link.fitted:hover,\n",
       ".sk-estimator-doc-link.fitted:hover {\n",
       "  /* fitted */\n",
       "  background-color: var(--sklearn-color-fitted-level-3);\n",
       "  color: var(--sklearn-color-background);\n",
       "  text-decoration: none;\n",
       "}\n",
       "\n",
       "/* Span, style for the box shown on hovering the info icon */\n",
       ".sk-estimator-doc-link span {\n",
       "  display: none;\n",
       "  z-index: 9999;\n",
       "  position: relative;\n",
       "  font-weight: normal;\n",
       "  right: .2ex;\n",
       "  padding: .5ex;\n",
       "  margin: .5ex;\n",
       "  width: min-content;\n",
       "  min-width: 20ex;\n",
       "  max-width: 50ex;\n",
       "  color: var(--sklearn-color-text);\n",
       "  box-shadow: 2pt 2pt 4pt #999;\n",
       "  /* unfitted */\n",
       "  background: var(--sklearn-color-unfitted-level-0);\n",
       "  border: .5pt solid var(--sklearn-color-unfitted-level-3);\n",
       "}\n",
       "\n",
       ".sk-estimator-doc-link.fitted span {\n",
       "  /* fitted */\n",
       "  background: var(--sklearn-color-fitted-level-0);\n",
       "  border: var(--sklearn-color-fitted-level-3);\n",
       "}\n",
       "\n",
       ".sk-estimator-doc-link:hover span {\n",
       "  display: block;\n",
       "}\n",
       "\n",
       "/* \"?\"-specific style due to the `<a>` HTML tag */\n",
       "\n",
       "#sk-container-id-1 a.estimator_doc_link {\n",
       "  float: right;\n",
       "  font-size: 1rem;\n",
       "  line-height: 1em;\n",
       "  font-family: monospace;\n",
       "  background-color: var(--sklearn-color-background);\n",
       "  border-radius: 1rem;\n",
       "  height: 1rem;\n",
       "  width: 1rem;\n",
       "  text-decoration: none;\n",
       "  /* unfitted */\n",
       "  color: var(--sklearn-color-unfitted-level-1);\n",
       "  border: var(--sklearn-color-unfitted-level-1) 1pt solid;\n",
       "}\n",
       "\n",
       "#sk-container-id-1 a.estimator_doc_link.fitted {\n",
       "  /* fitted */\n",
       "  border: var(--sklearn-color-fitted-level-1) 1pt solid;\n",
       "  color: var(--sklearn-color-fitted-level-1);\n",
       "}\n",
       "\n",
       "/* On hover */\n",
       "#sk-container-id-1 a.estimator_doc_link:hover {\n",
       "  /* unfitted */\n",
       "  background-color: var(--sklearn-color-unfitted-level-3);\n",
       "  color: var(--sklearn-color-background);\n",
       "  text-decoration: none;\n",
       "}\n",
       "\n",
       "#sk-container-id-1 a.estimator_doc_link.fitted:hover {\n",
       "  /* fitted */\n",
       "  background-color: var(--sklearn-color-fitted-level-3);\n",
       "}\n",
       "</style><div id=\"sk-container-id-1\" class=\"sk-top-container\"><div class=\"sk-text-repr-fallback\"><pre>GridSearchCV(cv=5, estimator=DecisionTreeClassifier(random_state=0),\n",
       "             param_grid={&#x27;max_depth&#x27;: [5, 7, None],\n",
       "                         &#x27;max_features&#x27;: [&#x27;sqrt&#x27;, 0.3, 0.6],\n",
       "                         &#x27;min_samples_leaf&#x27;: [1, 2],\n",
       "                         &#x27;min_samples_split&#x27;: [2, 3]},\n",
       "             refit=&#x27;f1&#x27;, return_train_score=True,\n",
       "             scoring=[&#x27;accuracy&#x27;, &#x27;precision&#x27;, &#x27;recall&#x27;, &#x27;f1&#x27;])</pre><b>In a Jupyter environment, please rerun this cell to show the HTML representation or trust the notebook. <br />On GitHub, the HTML representation is unable to render, please try loading this page with nbviewer.org.</b></div><div class=\"sk-container\" hidden><div class=\"sk-item sk-dashed-wrapped\"><div class=\"sk-label-container\"><div class=\"sk-label fitted sk-toggleable\"><input class=\"sk-toggleable__control sk-hidden--visually\" id=\"sk-estimator-id-1\" type=\"checkbox\" ><label for=\"sk-estimator-id-1\" class=\"sk-toggleable__label fitted sk-toggleable__label-arrow\"><div><div>GridSearchCV</div></div><div><a class=\"sk-estimator-doc-link fitted\" rel=\"noreferrer\" target=\"_blank\" href=\"https://scikit-learn.org/1.6/modules/generated/sklearn.model_selection.GridSearchCV.html\">?<span>Documentation for GridSearchCV</span></a><span class=\"sk-estimator-doc-link fitted\">i<span>Fitted</span></span></div></label><div class=\"sk-toggleable__content fitted\"><pre>GridSearchCV(cv=5, estimator=DecisionTreeClassifier(random_state=0),\n",
       "             param_grid={&#x27;max_depth&#x27;: [5, 7, None],\n",
       "                         &#x27;max_features&#x27;: [&#x27;sqrt&#x27;, 0.3, 0.6],\n",
       "                         &#x27;min_samples_leaf&#x27;: [1, 2],\n",
       "                         &#x27;min_samples_split&#x27;: [2, 3]},\n",
       "             refit=&#x27;f1&#x27;, return_train_score=True,\n",
       "             scoring=[&#x27;accuracy&#x27;, &#x27;precision&#x27;, &#x27;recall&#x27;, &#x27;f1&#x27;])</pre></div> </div></div><div class=\"sk-parallel\"><div class=\"sk-parallel-item\"><div class=\"sk-item\"><div class=\"sk-label-container\"><div class=\"sk-label fitted sk-toggleable\"><input class=\"sk-toggleable__control sk-hidden--visually\" id=\"sk-estimator-id-2\" type=\"checkbox\" ><label for=\"sk-estimator-id-2\" class=\"sk-toggleable__label fitted sk-toggleable__label-arrow\"><div><div>best_estimator_: DecisionTreeClassifier</div></div></label><div class=\"sk-toggleable__content fitted\"><pre>DecisionTreeClassifier(max_depth=5, max_features=0.6, random_state=0)</pre></div> </div></div><div class=\"sk-serial\"><div class=\"sk-item\"><div class=\"sk-estimator fitted sk-toggleable\"><input class=\"sk-toggleable__control sk-hidden--visually\" id=\"sk-estimator-id-3\" type=\"checkbox\" ><label for=\"sk-estimator-id-3\" class=\"sk-toggleable__label fitted sk-toggleable__label-arrow\"><div><div>DecisionTreeClassifier</div></div><div><a class=\"sk-estimator-doc-link fitted\" rel=\"noreferrer\" target=\"_blank\" href=\"https://scikit-learn.org/1.6/modules/generated/sklearn.tree.DecisionTreeClassifier.html\">?<span>Documentation for DecisionTreeClassifier</span></a></div></label><div class=\"sk-toggleable__content fitted\"><pre>DecisionTreeClassifier(max_depth=5, max_features=0.6, random_state=0)</pre></div> </div></div></div></div></div></div></div></div></div>"
      ],
      "text/plain": [
       "GridSearchCV(cv=5, estimator=DecisionTreeClassifier(random_state=0),\n",
       "             param_grid={'max_depth': [5, 7, None],\n",
       "                         'max_features': ['sqrt', 0.3, 0.6],\n",
       "                         'min_samples_leaf': [1, 2],\n",
       "                         'min_samples_split': [2, 3]},\n",
       "             refit='f1', return_train_score=True,\n",
       "             scoring=['accuracy', 'precision', 'recall', 'f1'])"
      ]
     },
     "execution_count": 43,
     "metadata": {},
     "output_type": "execute_result"
    }
   ],
   "source": [
    "%%time\n",
    "# Fit the model to the training data\n",
    "dt_cv.fit(X_train, y_train)"
   ]
  },
  {
   "cell_type": "code",
   "execution_count": 44,
   "id": "b11a7377",
   "metadata": {},
   "outputs": [
    {
     "data": {
      "text/plain": [
       "np.float64(0.9982507167345792)"
      ]
     },
     "execution_count": 44,
     "metadata": {},
     "output_type": "execute_result"
    }
   ],
   "source": [
    "# Examine best score according to the refit metric (F1 score)\n",
    "dt_cv.best_score_"
   ]
  },
  {
   "cell_type": "code",
   "execution_count": 45,
   "id": "65427cd3",
   "metadata": {},
   "outputs": [
    {
     "data": {
      "text/plain": [
       "{'max_depth': 5,\n",
       " 'max_features': 0.6,\n",
       " 'min_samples_leaf': 1,\n",
       " 'min_samples_split': 2}"
      ]
     },
     "execution_count": 45,
     "metadata": {},
     "output_type": "execute_result"
    }
   ],
   "source": [
    "# Examine best parameters\n",
    "dt_cv.best_params_"
   ]
  },
  {
   "cell_type": "code",
   "execution_count": 46,
   "id": "64d120d3",
   "metadata": {},
   "outputs": [],
   "source": [
    "# Access the GridSearch results and convert it to a pandas df\n",
    "dt_results_df = pd.DataFrame(dt_cv.cv_results_)"
   ]
  },
  {
   "cell_type": "markdown",
   "id": "bd0f7ddc",
   "metadata": {},
   "source": [
    "#### 3.3.2 XGBoost\n",
    "\n",
    "We fit an XGBoost classification model to the training set, and hyperparameters are tuned using GridSearchCV, which selects the best model based on the F1 score."
   ]
  },
  {
   "cell_type": "code",
   "execution_count": 48,
   "id": "eca19974",
   "metadata": {},
   "outputs": [],
   "source": [
    "# Instantiate the XGBoost classifier\n",
    "xgb = XGBClassifier(random_state=0, use_label_encoder=False, eval_metric='logloss')\n",
    "\n",
    "# Create a dictionary of hyperparameters to search over\n",
    "cv_params = {\n",
    "    'n_estimators': [50, 100, 200],\n",
    "    'max_depth': [3, 5, 7],\n",
    "    'learning_rate': [0.01, 0.1, 0.2, 0.3],\n",
    "    'subsample': [0.8, 0.9, 1.0],\n",
    "    'min_child_weight': [1, 2, 3, 4, 5]\n",
    "}\n",
    "\n",
    "# Define scoring metric for GridSearch\n",
    "scoring = ['accuracy', 'precision', 'recall', 'f1']\n",
    "\n",
    "# Instantiate the GridSearchCV object for cross-validation\n",
    "xgb_cv = GridSearchCV(\n",
    "    estimator=xgb,\n",
    "    param_grid=cv_params,\n",
    "    scoring=scoring,\n",
    "    cv=5,\n",
    "    refit='f1',\n",
    "    n_jobs=-1\n",
    "    )"
   ]
  },
  {
   "cell_type": "code",
   "execution_count": null,
   "id": "e1ca9d86",
   "metadata": {},
   "outputs": [
    {
     "name": "stderr",
     "output_type": "stream",
     "text": [
      "/Users/dpb24/Library/Python/3.9/lib/python/site-packages/xgboost/core.py:158: UserWarning: [12:29:57] WARNING: /Users/runner/work/xgboost/xgboost/src/learner.cc:740: \n",
      "Parameters: { \"use_label_encoder\" } are not used.\n",
      "\n",
      "  warnings.warn(smsg, UserWarning)\n",
      "/Users/dpb24/Library/Python/3.9/lib/python/site-packages/xgboost/core.py:158: UserWarning: [12:29:57] WARNING: /Users/runner/work/xgboost/xgboost/src/learner.cc:740: \n",
      "Parameters: { \"use_label_encoder\" } are not used.\n",
      "\n",
      "  warnings.warn(smsg, UserWarning)\n",
      "/Users/dpb24/Library/Python/3.9/lib/python/site-packages/xgboost/core.py:158: UserWarning: [12:29:57] WARNING: /Users/runner/work/xgboost/xgboost/src/learner.cc:740: \n",
      "Parameters: { \"use_label_encoder\" } are not used.\n",
      "\n",
      "  warnings.warn(smsg, UserWarning)\n",
      "/Users/dpb24/Library/Python/3.9/lib/python/site-packages/xgboost/core.py:158: UserWarning: [12:29:57] WARNING: /Users/runner/work/xgboost/xgboost/src/learner.cc:740: \n",
      "Parameters: { \"use_label_encoder\" } are not used.\n",
      "\n",
      "  warnings.warn(smsg, UserWarning)\n",
      "/Users/dpb24/Library/Python/3.9/lib/python/site-packages/xgboost/core.py:158: UserWarning: [12:29:57] WARNING: /Users/runner/work/xgboost/xgboost/src/learner.cc:740: \n",
      "Parameters: { \"use_label_encoder\" } are not used.\n",
      "\n",
      "  warnings.warn(smsg, UserWarning)\n",
      "/Users/dpb24/Library/Python/3.9/lib/python/site-packages/xgboost/core.py:158: UserWarning: [12:29:57] WARNING: /Users/runner/work/xgboost/xgboost/src/learner.cc:740: \n",
      "Parameters: { \"use_label_encoder\" } are not used.\n",
      "\n",
      "  warnings.warn(smsg, UserWarning)\n",
      "/Users/dpb24/Library/Python/3.9/lib/python/site-packages/xgboost/core.py:158: UserWarning: [12:29:57] WARNING: /Users/runner/work/xgboost/xgboost/src/learner.cc:740: \n",
      "Parameters: { \"use_label_encoder\" } are not used.\n",
      "\n",
      "  warnings.warn(smsg, UserWarning)\n",
      "/Users/dpb24/Library/Python/3.9/lib/python/site-packages/xgboost/core.py:158: UserWarning: [12:29:57] WARNING: /Users/runner/work/xgboost/xgboost/src/learner.cc:740: \n",
      "Parameters: { \"use_label_encoder\" } are not used.\n",
      "\n",
      "  warnings.warn(smsg, UserWarning)\n",
      "/Users/dpb24/Library/Python/3.9/lib/python/site-packages/xgboost/core.py:158: UserWarning: [12:32:52] WARNING: /Users/runner/work/xgboost/xgboost/src/learner.cc:740: \n",
      "Parameters: { \"use_label_encoder\" } are not used.\n",
      "\n",
      "  warnings.warn(smsg, UserWarning)\n",
      "/Users/dpb24/Library/Python/3.9/lib/python/site-packages/xgboost/core.py:158: UserWarning: [12:32:52] WARNING: /Users/runner/work/xgboost/xgboost/src/learner.cc:740: \n",
      "Parameters: { \"use_label_encoder\" } are not used.\n",
      "\n",
      "  warnings.warn(smsg, UserWarning)\n",
      "/Users/dpb24/Library/Python/3.9/lib/python/site-packages/xgboost/core.py:158: UserWarning: [12:32:52] WARNING: /Users/runner/work/xgboost/xgboost/src/learner.cc:740: \n",
      "Parameters: { \"use_label_encoder\" } are not used.\n",
      "\n",
      "  warnings.warn(smsg, UserWarning)\n",
      "/Users/dpb24/Library/Python/3.9/lib/python/site-packages/xgboost/core.py:158: UserWarning: [12:32:52] WARNING: /Users/runner/work/xgboost/xgboost/src/learner.cc:740: \n",
      "Parameters: { \"use_label_encoder\" } are not used.\n",
      "\n",
      "  warnings.warn(smsg, UserWarning)\n",
      "/Users/dpb24/Library/Python/3.9/lib/python/site-packages/xgboost/core.py:158: UserWarning: [12:32:52] WARNING: /Users/runner/work/xgboost/xgboost/src/learner.cc:740: \n",
      "Parameters: { \"use_label_encoder\" } are not used.\n",
      "\n",
      "  warnings.warn(smsg, UserWarning)\n",
      "/Users/dpb24/Library/Python/3.9/lib/python/site-packages/xgboost/core.py:158: UserWarning: [12:32:52] WARNING: /Users/runner/work/xgboost/xgboost/src/learner.cc:740: \n",
      "Parameters: { \"use_label_encoder\" } are not used.\n",
      "\n",
      "  warnings.warn(smsg, UserWarning)\n",
      "/Users/dpb24/Library/Python/3.9/lib/python/site-packages/xgboost/core.py:158: UserWarning: [12:32:52] WARNING: /Users/runner/work/xgboost/xgboost/src/learner.cc:740: \n",
      "Parameters: { \"use_label_encoder\" } are not used.\n",
      "\n",
      "  warnings.warn(smsg, UserWarning)\n",
      "/Users/dpb24/Library/Python/3.9/lib/python/site-packages/xgboost/core.py:158: UserWarning: [12:32:52] WARNING: /Users/runner/work/xgboost/xgboost/src/learner.cc:740: \n",
      "Parameters: { \"use_label_encoder\" } are not used.\n",
      "\n",
      "  warnings.warn(smsg, UserWarning)\n",
      "/Users/dpb24/Library/Python/3.9/lib/python/site-packages/xgboost/core.py:158: UserWarning: [12:35:27] WARNING: /Users/runner/work/xgboost/xgboost/src/learner.cc:740: \n",
      "Parameters: { \"use_label_encoder\" } are not used.\n",
      "\n",
      "  warnings.warn(smsg, UserWarning)\n",
      "/Users/dpb24/Library/Python/3.9/lib/python/site-packages/xgboost/core.py:158: UserWarning: [12:35:27] WARNING: /Users/runner/work/xgboost/xgboost/src/learner.cc:740: \n",
      "Parameters: { \"use_label_encoder\" } are not used.\n",
      "\n",
      "  warnings.warn(smsg, UserWarning)\n",
      "/Users/dpb24/Library/Python/3.9/lib/python/site-packages/xgboost/core.py:158: UserWarning: [12:35:27] WARNING: /Users/runner/work/xgboost/xgboost/src/learner.cc:740: \n",
      "Parameters: { \"use_label_encoder\" } are not used.\n",
      "\n",
      "  warnings.warn(smsg, UserWarning)\n",
      "/Users/dpb24/Library/Python/3.9/lib/python/site-packages/xgboost/core.py:158: UserWarning: [12:35:28] WARNING: /Users/runner/work/xgboost/xgboost/src/learner.cc:740: \n",
      "Parameters: { \"use_label_encoder\" } are not used.\n",
      "\n",
      "  warnings.warn(smsg, UserWarning)\n",
      "/Users/dpb24/Library/Python/3.9/lib/python/site-packages/xgboost/core.py:158: UserWarning: [12:35:28] WARNING: /Users/runner/work/xgboost/xgboost/src/learner.cc:740: \n",
      "Parameters: { \"use_label_encoder\" } are not used.\n",
      "\n",
      "  warnings.warn(smsg, UserWarning)\n",
      "/Users/dpb24/Library/Python/3.9/lib/python/site-packages/xgboost/core.py:158: UserWarning: [12:35:28] WARNING: /Users/runner/work/xgboost/xgboost/src/learner.cc:740: \n",
      "Parameters: { \"use_label_encoder\" } are not used.\n",
      "\n",
      "  warnings.warn(smsg, UserWarning)\n",
      "/Users/dpb24/Library/Python/3.9/lib/python/site-packages/xgboost/core.py:158: UserWarning: [12:35:28] WARNING: /Users/runner/work/xgboost/xgboost/src/learner.cc:740: \n",
      "Parameters: { \"use_label_encoder\" } are not used.\n",
      "\n",
      "  warnings.warn(smsg, UserWarning)\n",
      "/Users/dpb24/Library/Python/3.9/lib/python/site-packages/xgboost/core.py:158: UserWarning: [12:35:50] WARNING: /Users/runner/work/xgboost/xgboost/src/learner.cc:740: \n",
      "Parameters: { \"use_label_encoder\" } are not used.\n",
      "\n",
      "  warnings.warn(smsg, UserWarning)\n",
      "/Users/dpb24/Library/Python/3.9/lib/python/site-packages/xgboost/core.py:158: UserWarning: [12:38:59] WARNING: /Users/runner/work/xgboost/xgboost/src/learner.cc:740: \n",
      "Parameters: { \"use_label_encoder\" } are not used.\n",
      "\n",
      "  warnings.warn(smsg, UserWarning)\n",
      "/Users/dpb24/Library/Python/3.9/lib/python/site-packages/xgboost/core.py:158: UserWarning: [12:38:59] WARNING: /Users/runner/work/xgboost/xgboost/src/learner.cc:740: \n",
      "Parameters: { \"use_label_encoder\" } are not used.\n",
      "\n",
      "  warnings.warn(smsg, UserWarning)\n",
      "/Users/dpb24/Library/Python/3.9/lib/python/site-packages/xgboost/core.py:158: UserWarning: [12:38:59] WARNING: /Users/runner/work/xgboost/xgboost/src/learner.cc:740: \n",
      "Parameters: { \"use_label_encoder\" } are not used.\n",
      "\n",
      "  warnings.warn(smsg, UserWarning)\n",
      "/Users/dpb24/Library/Python/3.9/lib/python/site-packages/xgboost/core.py:158: UserWarning: [12:38:59] WARNING: /Users/runner/work/xgboost/xgboost/src/learner.cc:740: \n",
      "Parameters: { \"use_label_encoder\" } are not used.\n",
      "\n",
      "  warnings.warn(smsg, UserWarning)\n",
      "/Users/dpb24/Library/Python/3.9/lib/python/site-packages/xgboost/core.py:158: UserWarning: [12:38:59] WARNING: /Users/runner/work/xgboost/xgboost/src/learner.cc:740: \n",
      "Parameters: { \"use_label_encoder\" } are not used.\n",
      "\n",
      "  warnings.warn(smsg, UserWarning)\n",
      "/Users/dpb24/Library/Python/3.9/lib/python/site-packages/xgboost/core.py:158: UserWarning: [12:39:00] WARNING: /Users/runner/work/xgboost/xgboost/src/learner.cc:740: \n",
      "Parameters: { \"use_label_encoder\" } are not used.\n",
      "\n",
      "  warnings.warn(smsg, UserWarning)\n",
      "/Users/dpb24/Library/Python/3.9/lib/python/site-packages/xgboost/core.py:158: UserWarning: [12:39:00] WARNING: /Users/runner/work/xgboost/xgboost/src/learner.cc:740: \n",
      "Parameters: { \"use_label_encoder\" } are not used.\n",
      "\n",
      "  warnings.warn(smsg, UserWarning)\n",
      "/Users/dpb24/Library/Python/3.9/lib/python/site-packages/xgboost/core.py:158: UserWarning: [12:39:06] WARNING: /Users/runner/work/xgboost/xgboost/src/learner.cc:740: \n",
      "Parameters: { \"use_label_encoder\" } are not used.\n",
      "\n",
      "  warnings.warn(smsg, UserWarning)\n",
      "/Users/dpb24/Library/Python/3.9/lib/python/site-packages/xgboost/core.py:158: UserWarning: [12:42:18] WARNING: /Users/runner/work/xgboost/xgboost/src/learner.cc:740: \n",
      "Parameters: { \"use_label_encoder\" } are not used.\n",
      "\n",
      "  warnings.warn(smsg, UserWarning)\n",
      "/Users/dpb24/Library/Python/3.9/lib/python/site-packages/xgboost/core.py:158: UserWarning: [12:42:18] WARNING: /Users/runner/work/xgboost/xgboost/src/learner.cc:740: \n",
      "Parameters: { \"use_label_encoder\" } are not used.\n",
      "\n",
      "  warnings.warn(smsg, UserWarning)\n",
      "/Users/dpb24/Library/Python/3.9/lib/python/site-packages/xgboost/core.py:158: UserWarning: [12:42:18] WARNING: /Users/runner/work/xgboost/xgboost/src/learner.cc:740: \n",
      "Parameters: { \"use_label_encoder\" } are not used.\n",
      "\n",
      "  warnings.warn(smsg, UserWarning)\n",
      "/Users/dpb24/Library/Python/3.9/lib/python/site-packages/xgboost/core.py:158: UserWarning: [12:42:18] WARNING: /Users/runner/work/xgboost/xgboost/src/learner.cc:740: \n",
      "Parameters: { \"use_label_encoder\" } are not used.\n",
      "\n",
      "  warnings.warn(smsg, UserWarning)\n",
      "/Users/dpb24/Library/Python/3.9/lib/python/site-packages/xgboost/core.py:158: UserWarning: [12:42:18] WARNING: /Users/runner/work/xgboost/xgboost/src/learner.cc:740: \n",
      "Parameters: { \"use_label_encoder\" } are not used.\n",
      "\n",
      "  warnings.warn(smsg, UserWarning)\n",
      "/Users/dpb24/Library/Python/3.9/lib/python/site-packages/xgboost/core.py:158: UserWarning: [12:42:18] WARNING: /Users/runner/work/xgboost/xgboost/src/learner.cc:740: \n",
      "Parameters: { \"use_label_encoder\" } are not used.\n",
      "\n",
      "  warnings.warn(smsg, UserWarning)\n",
      "/Users/dpb24/Library/Python/3.9/lib/python/site-packages/xgboost/core.py:158: UserWarning: [12:43:26] WARNING: /Users/runner/work/xgboost/xgboost/src/learner.cc:740: \n",
      "Parameters: { \"use_label_encoder\" } are not used.\n",
      "\n",
      "  warnings.warn(smsg, UserWarning)\n",
      "/Users/dpb24/Library/Python/3.9/lib/python/site-packages/xgboost/core.py:158: UserWarning: [12:43:31] WARNING: /Users/runner/work/xgboost/xgboost/src/learner.cc:740: \n",
      "Parameters: { \"use_label_encoder\" } are not used.\n",
      "\n",
      "  warnings.warn(smsg, UserWarning)\n",
      "/Users/dpb24/Library/Python/3.9/lib/python/site-packages/xgboost/core.py:158: UserWarning: [12:47:27] WARNING: /Users/runner/work/xgboost/xgboost/src/learner.cc:740: \n",
      "Parameters: { \"use_label_encoder\" } are not used.\n",
      "\n",
      "  warnings.warn(smsg, UserWarning)\n",
      "/Users/dpb24/Library/Python/3.9/lib/python/site-packages/xgboost/core.py:158: UserWarning: [12:47:29] WARNING: /Users/runner/work/xgboost/xgboost/src/learner.cc:740: \n",
      "Parameters: { \"use_label_encoder\" } are not used.\n",
      "\n",
      "  warnings.warn(smsg, UserWarning)\n",
      "/Users/dpb24/Library/Python/3.9/lib/python/site-packages/xgboost/core.py:158: UserWarning: [12:47:30] WARNING: /Users/runner/work/xgboost/xgboost/src/learner.cc:740: \n",
      "Parameters: { \"use_label_encoder\" } are not used.\n",
      "\n",
      "  warnings.warn(smsg, UserWarning)\n",
      "/Users/dpb24/Library/Python/3.9/lib/python/site-packages/xgboost/core.py:158: UserWarning: [12:47:30] WARNING: /Users/runner/work/xgboost/xgboost/src/learner.cc:740: \n",
      "Parameters: { \"use_label_encoder\" } are not used.\n",
      "\n",
      "  warnings.warn(smsg, UserWarning)\n",
      "/Users/dpb24/Library/Python/3.9/lib/python/site-packages/xgboost/core.py:158: UserWarning: [12:47:30] WARNING: /Users/runner/work/xgboost/xgboost/src/learner.cc:740: \n",
      "Parameters: { \"use_label_encoder\" } are not used.\n",
      "\n",
      "  warnings.warn(smsg, UserWarning)\n",
      "/Users/dpb24/Library/Python/3.9/lib/python/site-packages/xgboost/core.py:158: UserWarning: [12:47:30] WARNING: /Users/runner/work/xgboost/xgboost/src/learner.cc:740: \n",
      "Parameters: { \"use_label_encoder\" } are not used.\n",
      "\n",
      "  warnings.warn(smsg, UserWarning)\n",
      "/Users/dpb24/Library/Python/3.9/lib/python/site-packages/xgboost/core.py:158: UserWarning: [12:48:24] WARNING: /Users/runner/work/xgboost/xgboost/src/learner.cc:740: \n",
      "Parameters: { \"use_label_encoder\" } are not used.\n",
      "\n",
      "  warnings.warn(smsg, UserWarning)\n",
      "/Users/dpb24/Library/Python/3.9/lib/python/site-packages/xgboost/core.py:158: UserWarning: [12:48:28] WARNING: /Users/runner/work/xgboost/xgboost/src/learner.cc:740: \n",
      "Parameters: { \"use_label_encoder\" } are not used.\n",
      "\n",
      "  warnings.warn(smsg, UserWarning)\n",
      "/Users/dpb24/Library/Python/3.9/lib/python/site-packages/xgboost/core.py:158: UserWarning: [12:50:06] WARNING: /Users/runner/work/xgboost/xgboost/src/learner.cc:740: \n",
      "Parameters: { \"use_label_encoder\" } are not used.\n",
      "\n",
      "  warnings.warn(smsg, UserWarning)\n",
      "/Users/dpb24/Library/Python/3.9/lib/python/site-packages/xgboost/core.py:158: UserWarning: [12:51:05] WARNING: /Users/runner/work/xgboost/xgboost/src/learner.cc:740: \n",
      "Parameters: { \"use_label_encoder\" } are not used.\n",
      "\n",
      "  warnings.warn(smsg, UserWarning)\n",
      "/Users/dpb24/Library/Python/3.9/lib/python/site-packages/xgboost/core.py:158: UserWarning: [12:51:06] WARNING: /Users/runner/work/xgboost/xgboost/src/learner.cc:740: \n",
      "Parameters: { \"use_label_encoder\" } are not used.\n",
      "\n",
      "  warnings.warn(smsg, UserWarning)\n",
      "/Users/dpb24/Library/Python/3.9/lib/python/site-packages/xgboost/core.py:158: UserWarning: [12:52:46] WARNING: /Users/runner/work/xgboost/xgboost/src/learner.cc:740: \n",
      "Parameters: { \"use_label_encoder\" } are not used.\n",
      "\n",
      "  warnings.warn(smsg, UserWarning)\n",
      "/Users/dpb24/Library/Python/3.9/lib/python/site-packages/xgboost/core.py:158: UserWarning: [12:52:58] WARNING: /Users/runner/work/xgboost/xgboost/src/learner.cc:740: \n",
      "Parameters: { \"use_label_encoder\" } are not used.\n",
      "\n",
      "  warnings.warn(smsg, UserWarning)\n",
      "/Users/dpb24/Library/Python/3.9/lib/python/site-packages/xgboost/core.py:158: UserWarning: [12:53:00] WARNING: /Users/runner/work/xgboost/xgboost/src/learner.cc:740: \n",
      "Parameters: { \"use_label_encoder\" } are not used.\n",
      "\n",
      "  warnings.warn(smsg, UserWarning)\n",
      "/Users/dpb24/Library/Python/3.9/lib/python/site-packages/xgboost/core.py:158: UserWarning: [12:53:01] WARNING: /Users/runner/work/xgboost/xgboost/src/learner.cc:740: \n",
      "Parameters: { \"use_label_encoder\" } are not used.\n",
      "\n",
      "  warnings.warn(smsg, UserWarning)\n",
      "/Users/dpb24/Library/Python/3.9/lib/python/site-packages/xgboost/core.py:158: UserWarning: [12:53:01] WARNING: /Users/runner/work/xgboost/xgboost/src/learner.cc:740: \n",
      "Parameters: { \"use_label_encoder\" } are not used.\n",
      "\n",
      "  warnings.warn(smsg, UserWarning)\n",
      "/Users/dpb24/Library/Python/3.9/lib/python/site-packages/xgboost/core.py:158: UserWarning: [12:53:01] WARNING: /Users/runner/work/xgboost/xgboost/src/learner.cc:740: \n",
      "Parameters: { \"use_label_encoder\" } are not used.\n",
      "\n",
      "  warnings.warn(smsg, UserWarning)\n",
      "/Users/dpb24/Library/Python/3.9/lib/python/site-packages/xgboost/core.py:158: UserWarning: [12:53:28] WARNING: /Users/runner/work/xgboost/xgboost/src/learner.cc:740: \n",
      "Parameters: { \"use_label_encoder\" } are not used.\n",
      "\n",
      "  warnings.warn(smsg, UserWarning)\n",
      "/Users/dpb24/Library/Python/3.9/lib/python/site-packages/xgboost/core.py:158: UserWarning: [12:53:29] WARNING: /Users/runner/work/xgboost/xgboost/src/learner.cc:740: \n",
      "Parameters: { \"use_label_encoder\" } are not used.\n",
      "\n",
      "  warnings.warn(smsg, UserWarning)\n",
      "/Users/dpb24/Library/Python/3.9/lib/python/site-packages/xgboost/core.py:158: UserWarning: [12:55:15] WARNING: /Users/runner/work/xgboost/xgboost/src/learner.cc:740: \n",
      "Parameters: { \"use_label_encoder\" } are not used.\n",
      "\n",
      "  warnings.warn(smsg, UserWarning)\n",
      "/Users/dpb24/Library/Python/3.9/lib/python/site-packages/xgboost/core.py:158: UserWarning: [12:55:37] WARNING: /Users/runner/work/xgboost/xgboost/src/learner.cc:740: \n",
      "Parameters: { \"use_label_encoder\" } are not used.\n",
      "\n",
      "  warnings.warn(smsg, UserWarning)\n",
      "/Users/dpb24/Library/Python/3.9/lib/python/site-packages/xgboost/core.py:158: UserWarning: [12:55:39] WARNING: /Users/runner/work/xgboost/xgboost/src/learner.cc:740: \n",
      "Parameters: { \"use_label_encoder\" } are not used.\n",
      "\n",
      "  warnings.warn(smsg, UserWarning)\n",
      "/Users/dpb24/Library/Python/3.9/lib/python/site-packages/xgboost/core.py:158: UserWarning: [12:55:39] WARNING: /Users/runner/work/xgboost/xgboost/src/learner.cc:740: \n",
      "Parameters: { \"use_label_encoder\" } are not used.\n",
      "\n",
      "  warnings.warn(smsg, UserWarning)\n",
      "/Users/dpb24/Library/Python/3.9/lib/python/site-packages/xgboost/core.py:158: UserWarning: [12:55:39] WARNING: /Users/runner/work/xgboost/xgboost/src/learner.cc:740: \n",
      "Parameters: { \"use_label_encoder\" } are not used.\n",
      "\n",
      "  warnings.warn(smsg, UserWarning)\n",
      "/Users/dpb24/Library/Python/3.9/lib/python/site-packages/xgboost/core.py:158: UserWarning: [12:55:40] WARNING: /Users/runner/work/xgboost/xgboost/src/learner.cc:740: \n",
      "Parameters: { \"use_label_encoder\" } are not used.\n",
      "\n",
      "  warnings.warn(smsg, UserWarning)\n",
      "/Users/dpb24/Library/Python/3.9/lib/python/site-packages/xgboost/core.py:158: UserWarning: [12:56:00] WARNING: /Users/runner/work/xgboost/xgboost/src/learner.cc:740: \n",
      "Parameters: { \"use_label_encoder\" } are not used.\n",
      "\n",
      "  warnings.warn(smsg, UserWarning)\n",
      "/Users/dpb24/Library/Python/3.9/lib/python/site-packages/xgboost/core.py:158: UserWarning: [12:56:00] WARNING: /Users/runner/work/xgboost/xgboost/src/learner.cc:740: \n",
      "Parameters: { \"use_label_encoder\" } are not used.\n",
      "\n",
      "  warnings.warn(smsg, UserWarning)\n",
      "/Users/dpb24/Library/Python/3.9/lib/python/site-packages/xgboost/core.py:158: UserWarning: [12:57:37] WARNING: /Users/runner/work/xgboost/xgboost/src/learner.cc:740: \n",
      "Parameters: { \"use_label_encoder\" } are not used.\n",
      "\n",
      "  warnings.warn(smsg, UserWarning)\n",
      "/Users/dpb24/Library/Python/3.9/lib/python/site-packages/xgboost/core.py:158: UserWarning: [12:59:22] WARNING: /Users/runner/work/xgboost/xgboost/src/learner.cc:740: \n",
      "Parameters: { \"use_label_encoder\" } are not used.\n",
      "\n",
      "  warnings.warn(smsg, UserWarning)\n",
      "/Users/dpb24/Library/Python/3.9/lib/python/site-packages/xgboost/core.py:158: UserWarning: [12:59:27] WARNING: /Users/runner/work/xgboost/xgboost/src/learner.cc:740: \n",
      "Parameters: { \"use_label_encoder\" } are not used.\n",
      "\n",
      "  warnings.warn(smsg, UserWarning)\n",
      "/Users/dpb24/Library/Python/3.9/lib/python/site-packages/xgboost/core.py:158: UserWarning: [12:59:27] WARNING: /Users/runner/work/xgboost/xgboost/src/learner.cc:740: \n",
      "Parameters: { \"use_label_encoder\" } are not used.\n",
      "\n",
      "  warnings.warn(smsg, UserWarning)\n",
      "/Users/dpb24/Library/Python/3.9/lib/python/site-packages/xgboost/core.py:158: UserWarning: [12:59:27] WARNING: /Users/runner/work/xgboost/xgboost/src/learner.cc:740: \n",
      "Parameters: { \"use_label_encoder\" } are not used.\n",
      "\n",
      "  warnings.warn(smsg, UserWarning)\n",
      "/Users/dpb24/Library/Python/3.9/lib/python/site-packages/xgboost/core.py:158: UserWarning: [12:59:27] WARNING: /Users/runner/work/xgboost/xgboost/src/learner.cc:740: \n",
      "Parameters: { \"use_label_encoder\" } are not used.\n",
      "\n",
      "  warnings.warn(smsg, UserWarning)\n",
      "/Users/dpb24/Library/Python/3.9/lib/python/site-packages/xgboost/core.py:158: UserWarning: [12:59:42] WARNING: /Users/runner/work/xgboost/xgboost/src/learner.cc:740: \n",
      "Parameters: { \"use_label_encoder\" } are not used.\n",
      "\n",
      "  warnings.warn(smsg, UserWarning)\n",
      "/Users/dpb24/Library/Python/3.9/lib/python/site-packages/xgboost/core.py:158: UserWarning: [12:59:43] WARNING: /Users/runner/work/xgboost/xgboost/src/learner.cc:740: \n",
      "Parameters: { \"use_label_encoder\" } are not used.\n",
      "\n",
      "  warnings.warn(smsg, UserWarning)\n",
      "/Users/dpb24/Library/Python/3.9/lib/python/site-packages/xgboost/core.py:158: UserWarning: [13:00:40] WARNING: /Users/runner/work/xgboost/xgboost/src/learner.cc:740: \n",
      "Parameters: { \"use_label_encoder\" } are not used.\n",
      "\n",
      "  warnings.warn(smsg, UserWarning)\n"
     ]
    }
   ],
   "source": [
    "%%time\n",
    "# Fit the model to the training data\n",
    "xgb_cv.fit(X_train, y_train)"
   ]
  },
  {
   "cell_type": "code",
   "execution_count": null,
   "id": "825c7940",
   "metadata": {},
   "outputs": [],
   "source": [
    "# Examine best score according to the refit metric (F1 score)\n",
    "xgb_cv.best_score_"
   ]
  },
  {
   "cell_type": "code",
   "execution_count": null,
   "id": "bf4d17fa",
   "metadata": {},
   "outputs": [],
   "source": [
    "# Examine best parameters\n",
    "xgb_cv.best_params_"
   ]
  },
  {
   "cell_type": "code",
   "execution_count": null,
   "id": "e7a02088",
   "metadata": {},
   "outputs": [],
   "source": [
    "# Access the GridSearch results and convert it to a pandas df\n",
    "xgb_results_df = pd.DataFrame(xgb_cv.cv_results_)"
   ]
  },
  {
   "cell_type": "markdown",
   "id": "0f0b4383",
   "metadata": {},
   "source": [
    "## 4 Baseline Model Evaluation\n",
    "### 4.1 Results and evaluation\n",
    "#### 4.1.1 Model selection\n",
    "We evaluate candidate baseline models on the validation data using metrics (accuracy, precision, recall, F1) both across all domains and stratified by domain."
   ]
  },
  {
   "cell_type": "code",
   "execution_count": null,
   "id": "537efbb5",
   "metadata": {},
   "outputs": [],
   "source": [
    "# Boolean masks for rows where 'domain' == 'news', 'politics', 'other' in original dataframe\n",
    "mask_news     = news_df_subset5.loc[X_val.index, 'domain'] == 'news'\n",
    "mask_politics = news_df_subset5.loc[X_val.index, 'domain'] == 'politics'\n",
    "mask_other    = news_df_subset5.loc[X_val.index, 'domain'] == 'other'         # I am including this even though we didn't use this category\n",
    "\n",
    "# Subset X_val and y_val using masks\n",
    "X_val_news     = X_val.loc[mask_news]\n",
    "y_val_news     = y_val.loc[mask_news]\n",
    "X_val_politics = X_val.loc[mask_politics]\n",
    "y_val_politics = y_val.loc[mask_politics]\n",
    "X_val_other    = X_val.loc[mask_other]\n",
    "y_val_other    = y_val.loc[mask_other]"
   ]
  },
  {
   "cell_type": "code",
   "execution_count": null,
   "id": "b44eb503",
   "metadata": {},
   "outputs": [],
   "source": [
    "# Function to calculate evaluation metrics\n",
    "def get_model_metrics(model, X_data, y_data):\n",
    "    # Get predictions\n",
    "    y_pred = model.predict(X_data)\n",
    "    \n",
    "    # Calculate classification metrics\n",
    "    accuracy = accuracy_score(y_data, y_pred)\n",
    "    precision = precision_score(y_data, y_pred, zero_division=0)\n",
    "    recall = recall_score(y_data, y_pred, zero_division=0)\n",
    "    f1 = f1_score(y_data, y_pred, zero_division=0)\n",
    "    \n",
    "    # Store metrics in a dictionary\n",
    "    metrics = {\n",
    "        \"Accuracy\": accuracy,\n",
    "        \"Precision\": precision,\n",
    "        \"Recall\": recall,\n",
    "        \"F1 Score\": f1\n",
    "    }\n",
    "    \n",
    "    return metrics\n",
    "\n",
    "# Machine Learning models\n",
    "models = {\n",
    "    \"Decision Tree\": dt_cv.best_estimator_,\n",
    "    \"XGBoost\": xgb_cv.best_estimator_\n",
    "}\n",
    "\n",
    "# Domains and corresponding subsets\n",
    "domain_subsets = {\n",
    "    \"all\": (X_val, y_val),\n",
    "    \"news\": (X_val_news, y_val_news),\n",
    "    \"politics\": (X_val_politics, y_val_politics),\n",
    "    \"other\": (X_val_other, y_val_other)\n",
    "}\n",
    "\n",
    "# Create an empty list to store metrics for each model and domain\n",
    "results = []\n",
    "\n",
    "# Loop over each domain subset and each model to calculate metrics\n",
    "for domain_name, (X_sub, y_sub) in domain_subsets.items():\n",
    "    for model_name, model in models.items():\n",
    "        # Skip if subset is empty\n",
    "        if X_sub.empty or y_sub.empty:\n",
    "            continue\n",
    "        \n",
    "        # Calculate metrics on the subset\n",
    "        metrics = get_model_metrics(model, X_sub, y_sub)\n",
    "        \n",
    "        # Add model and domain info\n",
    "        metrics[\"Model\"] = model_name\n",
    "        metrics[\"Domain\"] = domain_name\n",
    "        \n",
    "        # Append to results list\n",
    "        results.append(metrics)\n",
    "\n",
    "# Convert list of results into a DataFrame\n",
    "results_df = pd.DataFrame(results)\n",
    "\n",
    "# Reorder columns for readability (adjust based on your metric keys)\n",
    "results_df = results_df[[\"Model\", \"Domain\", \"Accuracy\", \"Precision\", \"Recall\", \"F1 Score\"]]\n",
    "\n",
    "# Display results\n",
    "results_df"
   ]
  },
  {
   "cell_type": "code",
   "execution_count": null,
   "id": "d9159d12",
   "metadata": {},
   "outputs": [],
   "source": []
  }
 ],
 "metadata": {
  "kernelspec": {
   "display_name": "Python 3",
   "language": "python",
   "name": "python3"
  },
  "language_info": {
   "codemirror_mode": {
    "name": "ipython",
    "version": 3
   },
   "file_extension": ".py",
   "mimetype": "text/x-python",
   "name": "python",
   "nbconvert_exporter": "python",
   "pygments_lexer": "ipython3",
   "version": "3.9.6"
  }
 },
 "nbformat": 4,
 "nbformat_minor": 5
}
